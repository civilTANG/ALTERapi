{
 "cells": [
  {
   "cell_type": "code",
   "execution_count": 1,
   "metadata": {},
   "outputs": [],
   "source": [
    "import pandas as pd\n",
    "import numpy as np\n",
    "import timeit, sys\n",
    "import re, random, itertools, string\n",
    "import seaborn as sns\n",
    "from matplotlib import pyplot as plt\n",
    "\n",
    "import warnings\n",
    "warnings.filterwarnings(\"ignore\")"
   ]
  },
  {
   "cell_type": "code",
   "execution_count": 2,
   "metadata": {},
   "outputs": [],
   "source": [
    "MB = 1024*1024\n",
    "datasize = [100, 1000, 10000, 100000, 1000000]\n",
    "speedup_all = {}"
   ]
  },
  {
   "cell_type": "markdown",
   "metadata": {},
   "source": [
    "np.einsum vs. np.tensordot"
   ]
  },
  {
   "cell_type": "code",
   "execution_count": 3,
   "metadata": {
    "scrolled": true
   },
   "outputs": [
    {
     "name": "stdout",
     "output_type": "stream",
     "text": [
      "1.6 µs ± 5.49 ns per loop (mean ± std. dev. of 7 runs, 1000000 loops each)\n",
      "13.1 µs ± 940 ns per loop (mean ± std. dev. of 7 runs, 100000 loops each)\n",
      "2.87 µs ± 95.3 ns per loop (mean ± std. dev. of 7 runs, 100000 loops each)\n",
      "15 µs ± 689 ns per loop (mean ± std. dev. of 7 runs, 100000 loops each)\n",
      "11.9 µs ± 188 ns per loop (mean ± std. dev. of 7 runs, 100000 loops each)\n",
      "23.1 µs ± 743 ns per loop (mean ± std. dev. of 7 runs, 10000 loops each)\n",
      "96.9 µs ± 2.17 µs per loop (mean ± std. dev. of 7 runs, 10000 loops each)\n",
      "68.5 µs ± 2.08 µs per loop (mean ± std. dev. of 7 runs, 10000 loops each)\n",
      "1.07 ms ± 24.6 µs per loop (mean ± std. dev. of 7 runs, 1000 loops each)\n",
      "2.69 ms ± 120 µs per loop (mean ± std. dev. of 7 runs, 100 loops each)\n"
     ]
    }
   ],
   "source": [
    "speedup = []\n",
    "for d in datasize:\n",
    "    p = np.random.rand(d,1)\n",
    "    w = np.random.rand(d)\n",
    "    r1 = np.einsum('ij,ik,i->jk',p,p,w)\n",
    "    r2 = np.tensordot(p[...,None]*p[:,None], w, axes=((0),(0)))\n",
    "    assert np.allclose(r1,r2) == True\n",
    "    t1 = %timeit -o np.einsum('ij,ik,i->jk',p,p,w)\n",
    "    t2 = %timeit -o np.tensordot(p[...,None]*p[:,None], w, axes=((0),(0)))\n",
    "    time1 = np.array(t1.timings).mean()\n",
    "    time2 = np.array(t2.timings).mean()\n",
    "    speedup.append(time2/time1)\n",
    "speedup_all['np.einsum vs. np.tensordot'] = speedup"
   ]
  },
  {
   "cell_type": "markdown",
   "metadata": {},
   "source": [
    "np.einsum vs np.sum"
   ]
  },
  {
   "cell_type": "code",
   "execution_count": 4,
   "metadata": {},
   "outputs": [
    {
     "name": "stdout",
     "output_type": "stream",
     "text": [
      "1.63 µs ± 255 ns per loop (mean ± std. dev. of 7 runs, 1000000 loops each)\n",
      "2.28 µs ± 109 ns per loop (mean ± std. dev. of 7 runs, 100000 loops each)\n",
      "1.55 µs ± 34.9 ns per loop (mean ± std. dev. of 7 runs, 1000000 loops each)\n",
      "2.69 µs ± 33.4 ns per loop (mean ± std. dev. of 7 runs, 100000 loops each)\n",
      "3.2 µs ± 62.3 ns per loop (mean ± std. dev. of 7 runs, 100000 loops each)\n",
      "5.92 µs ± 227 ns per loop (mean ± std. dev. of 7 runs, 100000 loops each)\n",
      "19 µs ± 361 ns per loop (mean ± std. dev. of 7 runs, 100000 loops each)\n",
      "36 µs ± 2.36 µs per loop (mean ± std. dev. of 7 runs, 10000 loops each)\n",
      "164 µs ± 4.4 µs per loop (mean ± std. dev. of 7 runs, 10000 loops each)\n",
      "310 µs ± 6.08 µs per loop (mean ± std. dev. of 7 runs, 1000 loops each)\n"
     ]
    }
   ],
   "source": [
    "speedup = []\n",
    "for d in datasize:\n",
    "    a = np.arange(d*1*1).reshape(d,1,1)\n",
    "    r1 = np.einsum('ijk->',a)\n",
    "    r2 = np.sum(a)\n",
    "    assert np.allclose(r1,r2) == True\n",
    "    t1 = %timeit -o np.einsum('ijk->',a)\n",
    "    t2 = %timeit -o np.sum(a)\n",
    "    time1 = np.array(t1.timings).mean()\n",
    "    time2 = np.array(t2.timings).mean()\n",
    "    speedup.append(time2/time1)\n",
    "speedup_all['np.einsum vs np.sum'] = speedup"
   ]
  },
  {
   "cell_type": "markdown",
   "metadata": {},
   "source": [
    "np.concatenate vs. np.stack"
   ]
  },
  {
   "cell_type": "code",
   "execution_count": 5,
   "metadata": {},
   "outputs": [
    {
     "name": "stdout",
     "output_type": "stream",
     "text": [
      "1.13 µs ± 37.5 ns per loop (mean ± std. dev. of 7 runs, 1000000 loops each)\n",
      "2.5 µs ± 76.9 ns per loop (mean ± std. dev. of 7 runs, 100000 loops each)\n",
      "1.85 µs ± 14.7 ns per loop (mean ± std. dev. of 7 runs, 1000000 loops each)\n",
      "3.27 µs ± 48.1 ns per loop (mean ± std. dev. of 7 runs, 100000 loops each)\n",
      "10.3 µs ± 447 ns per loop (mean ± std. dev. of 7 runs, 100000 loops each)\n",
      "11.9 µs ± 75.3 ns per loop (mean ± std. dev. of 7 runs, 100000 loops each)\n",
      "640 µs ± 10.6 µs per loop (mean ± std. dev. of 7 runs, 1000 loops each)\n",
      "638 µs ± 21.3 µs per loop (mean ± std. dev. of 7 runs, 1000 loops each)\n",
      "7.04 ms ± 276 µs per loop (mean ± std. dev. of 7 runs, 100 loops each)\n",
      "7 ms ± 189 µs per loop (mean ± std. dev. of 7 runs, 100 loops each)\n"
     ]
    }
   ],
   "source": [
    "speedup = []\n",
    "for d in datasize:\n",
    "    a = np.ones((d,1), dtype=np.float64)\n",
    "    b = np.ones((d,1), dtype=np.float64)\n",
    "    r1 = np.concatenate([a,b], axis=1)\n",
    "    r2 = np.hstack([a,b])\n",
    "    assert np.allclose(r1,r2) == True\n",
    "    t1 = %timeit -o np.concatenate([a,b], axis=1)\n",
    "    t2 = %timeit -o np.hstack([a,b])\n",
    "    time1 = np.array(t1.timings).mean()\n",
    "    time2 = np.array(t2.timings).mean()\n",
    "    speedup.append(time2/time1)\n",
    "speedup_all['np.concatenate vs. np.stack'] = speedup"
   ]
  },
  {
   "cell_type": "markdown",
   "metadata": {},
   "source": [
    "pd.DataFrame.at vs pd.DataFrame.loc"
   ]
  },
  {
   "cell_type": "code",
   "execution_count": 6,
   "metadata": {},
   "outputs": [
    {
     "name": "stdout",
     "output_type": "stream",
     "text": [
      "3.03 µs ± 45.1 ns per loop (mean ± std. dev. of 7 runs, 100000 loops each)\n",
      "4.62 µs ± 24.1 ns per loop (mean ± std. dev. of 7 runs, 100000 loops each)\n",
      "3.06 µs ± 110 ns per loop (mean ± std. dev. of 7 runs, 100000 loops each)\n",
      "4.7 µs ± 98.9 ns per loop (mean ± std. dev. of 7 runs, 100000 loops each)\n",
      "3.01 µs ± 51 ns per loop (mean ± std. dev. of 7 runs, 100000 loops each)\n",
      "4.66 µs ± 58.1 ns per loop (mean ± std. dev. of 7 runs, 100000 loops each)\n",
      "3.03 µs ± 58.5 ns per loop (mean ± std. dev. of 7 runs, 100000 loops each)\n",
      "5.01 µs ± 148 ns per loop (mean ± std. dev. of 7 runs, 100000 loops each)\n",
      "11.9 µs ± 366 ns per loop (mean ± std. dev. of 7 runs, 100000 loops each)\n",
      "13.8 µs ± 628 ns per loop (mean ± std. dev. of 7 runs, 100000 loops each)\n"
     ]
    }
   ],
   "source": [
    "speedup = []\n",
    "for d in datasize:\n",
    "    df = pd.DataFrame(np.random.randn(d, 1), columns=['a'])\n",
    "    r = random.randint(0, 10)\n",
    "    r1 = df.at[r, 'a']\n",
    "    r2 = df.loc[r, 'a']\n",
    "    assert r1 == r2\n",
    "    t1 = %timeit -o df.at[r, 'a']\n",
    "    t2 = %timeit -o df.loc[r, 'a']\n",
    "    time1 = np.array(t1.timings).mean()\n",
    "    time2 = np.array(t2.timings).mean()\n",
    "    speedup.append(time2/time1)\n",
    "speedup_all['pd.DataFrame.at vs pd.DataFrame.loc'] = speedup"
   ]
  },
  {
   "cell_type": "markdown",
   "metadata": {},
   "source": [
    "pd.DataFrame.iterrows vs pd.DataFrame.itertuples"
   ]
  },
  {
   "cell_type": "code",
   "execution_count": 7,
   "metadata": {
    "scrolled": true
   },
   "outputs": [
    {
     "name": "stdout",
     "output_type": "stream",
     "text": [
      "168 µs ± 5.25 µs per loop (mean ± std. dev. of 7 runs, 10000 loops each)\n",
      "1.79 ms ± 80.8 µs per loop (mean ± std. dev. of 7 runs, 1000 loops each)\n",
      "445 µs ± 3.84 µs per loop (mean ± std. dev. of 7 runs, 1000 loops each)\n",
      "17.6 ms ± 638 µs per loop (mean ± std. dev. of 7 runs, 100 loops each)\n",
      "3.34 ms ± 57.6 µs per loop (mean ± std. dev. of 7 runs, 100 loops each)\n",
      "175 ms ± 1.99 ms per loop (mean ± std. dev. of 7 runs, 10 loops each)\n",
      "32.3 ms ± 346 µs per loop (mean ± std. dev. of 7 runs, 10 loops each)\n",
      "1.75 s ± 43.9 ms per loop (mean ± std. dev. of 7 runs, 1 loop each)\n",
      "356 ms ± 5.86 ms per loop (mean ± std. dev. of 7 runs, 1 loop each)\n",
      "19.2 s ± 1.89 s per loop (mean ± std. dev. of 7 runs, 1 loop each)\n"
     ]
    }
   ],
   "source": [
    "speedup = []\n",
    "for d in datasize:\n",
    "    df = pd.DataFrame(np.random.randn(d, 1), columns=['a'])\n",
    "    r = random.randint(0, 10)\n",
    "    r1 = [row.a for row in df.itertuples()]\n",
    "    r2 = [row['a'] for _,row in df.iterrows()]\n",
    "    assert r1 == r2\n",
    "    t1 = %timeit -o [row.a for row in df.itertuples()]\n",
    "    t2 = %timeit -o [row['a'] for _,row in df.iterrows()]\n",
    "    time1 = np.array(t1.timings).mean()\n",
    "    time2 = np.array(t2.timings).mean()\n",
    "    speedup.append(time2/time1)\n",
    "speedup_all['pd.DataFrame.iterrows vs pd.DataFrame.itertuples'] = speedup"
   ]
  },
  {
   "cell_type": "markdown",
   "metadata": {},
   "source": [
    "np.einsum vs np.ndarray.sum"
   ]
  },
  {
   "cell_type": "code",
   "execution_count": 9,
   "metadata": {},
   "outputs": [
    {
     "name": "stdout",
     "output_type": "stream",
     "text": [
      "size: 0.0008544921875 MB\n",
      "1.52 µs ± 34.4 ns per loop (mean ± std. dev. of 7 runs, 1000000 loops each)\n",
      "2.32 µs ± 169 ns per loop (mean ± std. dev. of 7 runs, 100000 loops each)\n",
      "size: 0.007720947265625 MB\n",
      "2.2 µs ± 25 ns per loop (mean ± std. dev. of 7 runs, 100000 loops each)\n",
      "3.11 µs ± 48.4 ns per loop (mean ± std. dev. of 7 runs, 100000 loops each)\n",
      "size: 0.076385498046875 MB\n",
      "6.49 µs ± 59.7 ns per loop (mean ± std. dev. of 7 runs, 100000 loops each)\n",
      "9.01 µs ± 303 ns per loop (mean ± std. dev. of 7 runs, 100000 loops each)\n",
      "size: 0.763031005859375 MB\n",
      "49.8 µs ± 494 ns per loop (mean ± std. dev. of 7 runs, 10000 loops each)\n",
      "70.6 µs ± 593 ns per loop (mean ± std. dev. of 7 runs, 10000 loops each)\n",
      "size: 7.629486083984375 MB\n",
      "480 µs ± 11.6 µs per loop (mean ± std. dev. of 7 runs, 1000 loops each)\n",
      "2.52 ms ± 142 µs per loop (mean ± std. dev. of 7 runs, 100 loops each)\n"
     ]
    }
   ],
   "source": [
    "speedup = []\n",
    "for d in datasize:\n",
    "    a = np.random.rand(d)\n",
    "    print(\"size: {} MB\".format(sys.getsizeof(a)/MB))\n",
    "    r1 = np.einsum('...i,...i ->...', a, a)\n",
    "    r2 = (a*a).sum(axis=-1)\n",
    "    assert np.allclose(r1, r2) == True\n",
    "    t1 = %timeit -o np.einsum('...i,...i ->...', a, a)\n",
    "    t2 = %timeit -o (a*a).sum(axis=-1)\n",
    "    time1 = np.array(t1.timings).mean()\n",
    "    time2 = np.array(t2.timings).mean()\n",
    "    speedup.append(time2/time1)\n",
    "speedup_all['np.einsum vs np.ndarray.sum'] = speedup"
   ]
  },
  {
   "cell_type": "markdown",
   "metadata": {},
   "source": [
    "np.where vs pd.DataFrame.loc"
   ]
  },
  {
   "cell_type": "code",
   "execution_count": 11,
   "metadata": {},
   "outputs": [
    {
     "name": "stdout",
     "output_type": "stream",
     "text": [
      "91.5 µs ± 1.95 µs per loop (mean ± std. dev. of 7 runs, 10000 loops each)\n",
      "1.26 ms ± 27.7 µs per loop (mean ± std. dev. of 7 runs, 1000 loops each)\n",
      "97.3 µs ± 912 ns per loop (mean ± std. dev. of 7 runs, 10000 loops each)\n",
      "1.26 ms ± 37.1 µs per loop (mean ± std. dev. of 7 runs, 1000 loops each)\n",
      "105 µs ± 799 ns per loop (mean ± std. dev. of 7 runs, 10000 loops each)\n",
      "1.28 ms ± 16.3 µs per loop (mean ± std. dev. of 7 runs, 1000 loops each)\n",
      "188 µs ± 1.72 µs per loop (mean ± std. dev. of 7 runs, 10000 loops each)\n",
      "1.71 ms ± 18 µs per loop (mean ± std. dev. of 7 runs, 1000 loops each)\n",
      "3.49 ms ± 59.9 µs per loop (mean ± std. dev. of 7 runs, 100 loops each)\n",
      "7.45 ms ± 40.4 µs per loop (mean ± std. dev. of 7 runs, 100 loops each)\n"
     ]
    }
   ],
   "source": [
    "speedup = []\n",
    "for d in datasize:\n",
    "    df = pd.DataFrame(np.random.randn(d, 1), columns=['a'])\n",
    "    r1 = np.where(df.a > 0, 1, df.a)\n",
    "    df.loc[df.a > 0, 'a'] = 1    \n",
    "    assert np.allclose(r1, df['a']) == True\n",
    "    t1 = %timeit -o x = np.where(df.a > 0, 1, df.a)\n",
    "    t2 = %timeit -o df.loc[df.a > 0, 'a'] = 1\n",
    "    time1 = np.array(t1.timings).mean()\n",
    "    time2 = np.array(t2.timings).mean()\n",
    "    speedup.append(time2/time1)\n",
    "speedup_all['np.where vs pd.DataFrame.loc'] = speedup"
   ]
  },
  {
   "cell_type": "markdown",
   "metadata": {},
   "source": [
    "np.dot vs np.einsum"
   ]
  },
  {
   "cell_type": "code",
   "execution_count": 12,
   "metadata": {
    "scrolled": true
   },
   "outputs": [
    {
     "name": "stdout",
     "output_type": "stream",
     "text": [
      "2.31 µs ± 118 ns per loop (mean ± std. dev. of 7 runs, 100000 loops each)\n",
      "820 ns ± 16.3 ns per loop (mean ± std. dev. of 7 runs, 1000000 loops each)\n",
      "7.9 µs ± 77.2 ns per loop (mean ± std. dev. of 7 runs, 100000 loops each)\n",
      "1.76 µs ± 19.6 ns per loop (mean ± std. dev. of 7 runs, 1000000 loops each)\n",
      "63 µs ± 1.55 µs per loop (mean ± std. dev. of 7 runs, 10000 loops each)\n",
      "10.6 µs ± 129 ns per loop (mean ± std. dev. of 7 runs, 100000 loops each)\n",
      "618 µs ± 16.2 µs per loop (mean ± std. dev. of 7 runs, 1000 loops each)\n",
      "62.4 µs ± 903 ns per loop (mean ± std. dev. of 7 runs, 10000 loops each)\n",
      "8.74 ms ± 152 µs per loop (mean ± std. dev. of 7 runs, 100 loops each)\n",
      "3.59 ms ± 65 µs per loop (mean ± std. dev. of 7 runs, 100 loops each)\n"
     ]
    }
   ],
   "source": [
    "speedup = []\n",
    "for d in datasize:\n",
    "    #a= np.random.rand(d)\n",
    "    #r1 = np.dot(a[:,None],a[None,:])\n",
    "    #r2 = np.einsum('i,j', a, a)\n",
    "    (M, K) = (int(d/10), 10)\n",
    "    C = np.random.rand(K, K)\n",
    "    X = np.random.rand(M, K)\n",
    "    r1 = np.einsum('ik,km->im',X,C)\n",
    "    r2 = np.dot(X,C)\n",
    "    assert np.allclose(r1, r2) == True\n",
    "    t1 = %timeit -o np.einsum('ik,km->im',X,C)\n",
    "    t2 = %timeit -o np.dot(X,C)\n",
    "    time1 = np.array(t1.timings).mean()\n",
    "    time2 = np.array(t2.timings).mean()\n",
    "    speedup.append(time2/time1)\n",
    "speedup_all['np.dot vs np.einsum'] = speedup"
   ]
  },
  {
   "cell_type": "markdown",
   "metadata": {},
   "source": [
    "pd.DataFrame.groupby,pd.core.groupby.GroupBy.size,pd.Series.unstack vs pd.crosstab"
   ]
  },
  {
   "cell_type": "code",
   "execution_count": 13,
   "metadata": {},
   "outputs": [
    {
     "name": "stdout",
     "output_type": "stream",
     "text": [
      "1e+03 µs ± 11.5 µs per loop (mean ± std. dev. of 7 runs, 1000 loops each)\n",
      "4.89 ms ± 66.5 µs per loop (mean ± std. dev. of 7 runs, 100 loops each)\n",
      "1.04 ms ± 29.4 µs per loop (mean ± std. dev. of 7 runs, 1000 loops each)\n",
      "4.94 ms ± 95.5 µs per loop (mean ± std. dev. of 7 runs, 100 loops each)\n",
      "1.41 ms ± 32 µs per loop (mean ± std. dev. of 7 runs, 1000 loops each)\n",
      "5.79 ms ± 414 µs per loop (mean ± std. dev. of 7 runs, 100 loops each)\n",
      "6.31 ms ± 257 µs per loop (mean ± std. dev. of 7 runs, 100 loops each)\n",
      "12 ms ± 496 µs per loop (mean ± std. dev. of 7 runs, 100 loops each)\n",
      "72.6 ms ± 2.89 ms per loop (mean ± std. dev. of 7 runs, 10 loops each)\n",
      "114 ms ± 4.79 ms per loop (mean ± std. dev. of 7 runs, 10 loops each)\n"
     ]
    }
   ],
   "source": [
    "speedup = []\n",
    "for d in datasize:\n",
    "    df = pd.DataFrame(columns=['id', 'category'])\n",
    "    df['id'] = np.random.randint(3, size=d)\n",
    "    df['category'] = np.random.choice(['a','b','c'], d)\n",
    "    r1 = df.groupby(['id','category']).size().unstack(fill_value=0) \n",
    "    r2 = pd.crosstab(df['id'], df['category'])\n",
    "    assert r1.equals(r2)\n",
    "    t1 = %timeit -o df.groupby(['id','category']).size().unstack(fill_value=0)\n",
    "    t2 = %timeit -o pd.crosstab(df['id'], df['category'])\n",
    "    time1 = np.array(t1.timings).mean()\n",
    "    time2 = np.array(t2.timings).mean()\n",
    "    speedup.append(time2/time1)\n",
    "speedup_all['pd.DataFrame.groupby,pd.core.groupby.GroupBy.size,pd.Series.unstack vs pd.crosstab'] = speedup"
   ]
  },
  {
   "cell_type": "markdown",
   "metadata": {},
   "source": [
    "np.array vs np.fromiter"
   ]
  },
  {
   "cell_type": "code",
   "execution_count": 14,
   "metadata": {},
   "outputs": [
    {
     "name": "stdout",
     "output_type": "stream",
     "text": [
      "2.67 µs ± 79 ns per loop (mean ± std. dev. of 7 runs, 100000 loops each)\n",
      "3.66 µs ± 33.7 ns per loop (mean ± std. dev. of 7 runs, 100000 loops each)\n",
      "15.8 µs ± 259 ns per loop (mean ± std. dev. of 7 runs, 100000 loops each)\n",
      "31.3 µs ± 356 ns per loop (mean ± std. dev. of 7 runs, 10000 loops each)\n",
      "143 µs ± 4.68 µs per loop (mean ± std. dev. of 7 runs, 10000 loops each)\n",
      "304 µs ± 1.78 µs per loop (mean ± std. dev. of 7 runs, 1000 loops each)\n",
      "1.38 ms ± 18.2 µs per loop (mean ± std. dev. of 7 runs, 1000 loops each)\n",
      "3 ms ± 21.1 µs per loop (mean ± std. dev. of 7 runs, 100 loops each)\n",
      "16.3 ms ± 284 µs per loop (mean ± std. dev. of 7 runs, 100 loops each)\n",
      "32.4 ms ± 141 µs per loop (mean ± std. dev. of 7 runs, 10 loops each)\n"
     ]
    }
   ],
   "source": [
    "speedup = []\n",
    "for d in datasize:\n",
    "    a = [x for x in range(d)]\n",
    "    r1 = np.fromiter(a, dtype=int)\n",
    "    r2 = np.array(a)\n",
    "    assert np.allclose(r1, r2)\n",
    "    t1 = %timeit -o np.fromiter(a, dtype=int)\n",
    "    t2 = %timeit -o np.array(a)\n",
    "    time1 = np.array(t1.timings).mean()\n",
    "    time2 = np.array(t2.timings).mean()\n",
    "    speedup.append(time2/time1)\n",
    "speedup_all['np.array vs np.fromiter'] = speedup"
   ]
  },
  {
   "cell_type": "markdown",
   "metadata": {},
   "source": [
    "np.einsum vs np.ndarray.dot"
   ]
  },
  {
   "cell_type": "code",
   "execution_count": 15,
   "metadata": {
    "scrolled": true
   },
   "outputs": [
    {
     "name": "stdout",
     "output_type": "stream",
     "text": [
      "1.71 µs ± 43.7 ns per loop (mean ± std. dev. of 7 runs, 100000 loops each)\n",
      "3.57 µs ± 29.5 ns per loop (mean ± std. dev. of 7 runs, 100000 loops each)\n",
      "3.05 µs ± 30.1 ns per loop (mean ± std. dev. of 7 runs, 100000 loops each)\n",
      "28.2 µs ± 783 ns per loop (mean ± std. dev. of 7 runs, 10000 loops each)\n",
      "14.3 µs ± 83.3 ns per loop (mean ± std. dev. of 7 runs, 100000 loops each)\n",
      "274 µs ± 1.6 µs per loop (mean ± std. dev. of 7 runs, 1000 loops each)\n",
      "118 µs ± 2.07 µs per loop (mean ± std. dev. of 7 runs, 10000 loops each)\n",
      "2.78 ms ± 78.8 µs per loop (mean ± std. dev. of 7 runs, 100 loops each)\n",
      "3.88 ms ± 131 µs per loop (mean ± std. dev. of 7 runs, 100 loops each)\n",
      "29.7 ms ± 570 µs per loop (mean ± std. dev. of 7 runs, 10 loops each)\n"
     ]
    }
   ],
   "source": [
    "speedup = []\n",
    "for d in datasize:\n",
    "    A = np.ones((d,1,1))\n",
    "    v = np.array([2])\n",
    "    r1 = np.einsum('i, jki', v, A)\n",
    "    r2 = A.dot(v)\n",
    "    assert np.allclose(r1, r2)\n",
    "    t1 = %timeit -o np.einsum('i, jki', v, A)\n",
    "    t2 = %timeit -o A.dot(v)\n",
    "    time1 = np.array(t1.timings).mean()\n",
    "    time2 = np.array(t2.timings).mean()\n",
    "    speedup.append(time2/time1)\n",
    "speedup_all['np.einsum vs np.ndarray.dot'] = speedup"
   ]
  },
  {
   "cell_type": "markdown",
   "metadata": {},
   "source": [
    "np.ndarray.astype vs np.where"
   ]
  },
  {
   "cell_type": "code",
   "execution_count": 16,
   "metadata": {},
   "outputs": [
    {
     "name": "stdout",
     "output_type": "stream",
     "text": [
      "1.11 µs ± 3.19 ns per loop (mean ± std. dev. of 7 runs, 1000000 loops each)\n",
      "1.96 µs ± 49.1 ns per loop (mean ± std. dev. of 7 runs, 1000000 loops each)\n",
      "1.97 µs ± 90.9 ns per loop (mean ± std. dev. of 7 runs, 100000 loops each)\n",
      "3.24 µs ± 151 ns per loop (mean ± std. dev. of 7 runs, 100000 loops each)\n",
      "8.46 µs ± 227 ns per loop (mean ± std. dev. of 7 runs, 100000 loops each)\n",
      "11 µs ± 402 ns per loop (mean ± std. dev. of 7 runs, 100000 loops each)\n",
      "70.9 µs ± 2.73 µs per loop (mean ± std. dev. of 7 runs, 10000 loops each)\n",
      "82.4 µs ± 633 ns per loop (mean ± std. dev. of 7 runs, 10000 loops each)\n",
      "1.79 ms ± 31.5 µs per loop (mean ± std. dev. of 7 runs, 100 loops each)\n",
      "1.91 ms ± 23 µs per loop (mean ± std. dev. of 7 runs, 1000 loops each)\n"
     ]
    }
   ],
   "source": [
    "speedup = []\n",
    "for d in datasize:\n",
    "    np.random.seed(2)\n",
    "    A = np.random.rand(1,d)\n",
    "    r1 = (A > 0.5).astype(int)\n",
    "    r2 = np.where(A > 0.5, 1, 0)\n",
    "    assert np.allclose(r1, r2)\n",
    "    t1 = %timeit -o (A > 0.5).astype(int)\n",
    "    t2 = %timeit -o np.where(A > 0.5, 1, 0)\n",
    "    time1 = np.array(t1.timings).mean()\n",
    "    time2 = np.array(t2.timings).mean()\n",
    "    speedup.append(time2/time1)\n",
    "speedup_all['np.ndarray.astype vs np.where'] = speedup"
   ]
  },
  {
   "cell_type": "markdown",
   "metadata": {},
   "source": [
    "pd.Series.apply vs np.ndarray.tolist,pd.DataFrame"
   ]
  },
  {
   "cell_type": "code",
   "execution_count": 17,
   "metadata": {
    "scrolled": true
   },
   "outputs": [
    {
     "name": "stdout",
     "output_type": "stream",
     "text": [
      "144 µs ± 736 ns per loop (mean ± std. dev. of 7 runs, 10000 loops each)\n",
      "8.21 ms ± 78.7 µs per loop (mean ± std. dev. of 7 runs, 100 loops each)\n",
      "256 µs ± 1.35 µs per loop (mean ± std. dev. of 7 runs, 1000 loops each)\n",
      "81.1 ms ± 1.52 ms per loop (mean ± std. dev. of 7 runs, 10 loops each)\n",
      "1.35 ms ± 27.8 µs per loop (mean ± std. dev. of 7 runs, 1000 loops each)\n",
      "830 ms ± 4.36 ms per loop (mean ± std. dev. of 7 runs, 1 loop each)\n",
      "16.1 ms ± 156 µs per loop (mean ± std. dev. of 7 runs, 100 loops each)\n",
      "8.41 s ± 29 ms per loop (mean ± std. dev. of 7 runs, 1 loop each)\n",
      "The slowest run took 30.44 times longer than the fastest. This could mean that an intermediate result is being cached.\n",
      "1.01 s ± 1.99 s per loop (mean ± std. dev. of 7 runs, 10 loops each)\n",
      "1min 26s ± 438 ms per loop (mean ± std. dev. of 7 runs, 1 loop each)\n"
     ]
    }
   ],
   "source": [
    "speedup = []\n",
    "for d in datasize:\n",
    "    df = pd.DataFrame(data=[[list(x)] for x in np.random.rand(d,2)])\n",
    "    r1 = pd.DataFrame(df[0].values.tolist())\n",
    "    r2 = df[0].apply(pd.Series)\n",
    "    assert r1.equals(r2)\n",
    "    t1 = %timeit -o pd.DataFrame(df[0].values.tolist())\n",
    "    t2 = %timeit -o df[0].apply(pd.Series)\n",
    "    time1 = np.array(t1.timings).mean()\n",
    "    time2 = np.array(t2.timings).mean()\n",
    "    speedup.append(time2/time1)\n",
    "speedup_all['pd.Series.apply vs np.ndarray.tolist,pd.DataFrame'] = speedup"
   ]
  },
  {
   "cell_type": "markdown",
   "metadata": {},
   "source": [
    "np.where vs pd.DataFrame.apply"
   ]
  },
  {
   "cell_type": "code",
   "execution_count": 18,
   "metadata": {},
   "outputs": [
    {
     "name": "stdout",
     "output_type": "stream",
     "text": [
      "81.7 µs ± 1.53 µs per loop (mean ± std. dev. of 7 runs, 10000 loops each)\n",
      "1.12 ms ± 3.78 µs per loop (mean ± std. dev. of 7 runs, 1000 loops each)\n",
      "83.5 µs ± 606 ns per loop (mean ± std. dev. of 7 runs, 10000 loops each)\n",
      "8.21 ms ± 21.8 µs per loop (mean ± std. dev. of 7 runs, 100 loops each)\n",
      "96 µs ± 578 ns per loop (mean ± std. dev. of 7 runs, 10000 loops each)\n",
      "80.7 ms ± 974 µs per loop (mean ± std. dev. of 7 runs, 10 loops each)\n",
      "384 µs ± 2.53 µs per loop (mean ± std. dev. of 7 runs, 1000 loops each)\n",
      "800 ms ± 9.78 ms per loop (mean ± std. dev. of 7 runs, 1 loop each)\n",
      "2.25 ms ± 15.9 µs per loop (mean ± std. dev. of 7 runs, 100 loops each)\n",
      "7.99 s ± 41 ms per loop (mean ± std. dev. of 7 runs, 1 loop each)\n"
     ]
    }
   ],
   "source": [
    "speedup = []\n",
    "for d in datasize:\n",
    "    df = pd.DataFrame(np.random.randn(d, 1), columns=['a'])\n",
    "    r1 = np.where(df.a > 0, 1, -1)\n",
    "    r2 = df.apply(lambda row: 1 if row['a'] > 0 else -1, axis = 1)   \n",
    "    assert np.allclose(r1, r2) == True\n",
    "    t1 = %timeit -o np.where(df.a > 0, 1, -1)\n",
    "    t2 = %timeit -o df.apply(lambda row: 1 if row['a'] > 0 else -1, axis = 1)\n",
    "    time1 = np.array(t1.timings).mean()\n",
    "    time2 = np.array(t2.timings).mean()\n",
    "    speedup.append(time2/time1)\n",
    "speedup_all['np.where vs pd.DataFrame.apply'] = speedup"
   ]
  },
  {
   "cell_type": "markdown",
   "metadata": {},
   "source": [
    "pd.DataFrame.ix vs pd.DataFrame.loc"
   ]
  },
  {
   "cell_type": "code",
   "execution_count": 19,
   "metadata": {},
   "outputs": [
    {
     "name": "stdout",
     "output_type": "stream",
     "text": [
      "18.3 µs ± 381 ns per loop (mean ± std. dev. of 7 runs, 10000 loops each)\n",
      "38.5 µs ± 503 ns per loop (mean ± std. dev. of 7 runs, 10000 loops each)\n",
      "18.3 µs ± 81.6 ns per loop (mean ± std. dev. of 7 runs, 100000 loops each)\n",
      "39.4 µs ± 1.18 µs per loop (mean ± std. dev. of 7 runs, 10000 loops each)\n",
      "18.1 µs ± 83 ns per loop (mean ± std. dev. of 7 runs, 100000 loops each)\n",
      "38.8 µs ± 1.07 µs per loop (mean ± std. dev. of 7 runs, 10000 loops each)\n",
      "18.3 µs ± 432 ns per loop (mean ± std. dev. of 7 runs, 100000 loops each)\n",
      "38 µs ± 468 ns per loop (mean ± std. dev. of 7 runs, 10000 loops each)\n",
      "18.2 µs ± 245 ns per loop (mean ± std. dev. of 7 runs, 100000 loops each)\n",
      "38 µs ± 258 ns per loop (mean ± std. dev. of 7 runs, 10000 loops each)\n"
     ]
    }
   ],
   "source": [
    "speedup = []\n",
    "for d in datasize:\n",
    "    df = pd.DataFrame(np.random.randn(d, 1), columns=['a'])\n",
    "    r1 = df.loc[:, 'a']\n",
    "    r2 = df.ix[:, 'a']\n",
    "    assert r1.equals(r2)\n",
    "    t1 = %timeit -o df.loc[:, 'a']\n",
    "    t2 = %timeit -o df.ix[:, 'a']\n",
    "    time1 = np.array(t1.timings).mean()\n",
    "    time2 = np.array(t2.timings).mean()\n",
    "    speedup.append(time2/time1)\n",
    "speedup_all['pd.DataFrame.ix vs pd.DataFrame.loc'] = speedup"
   ]
  },
  {
   "cell_type": "markdown",
   "metadata": {},
   "source": [
    "pd.DataFrame.loc vs pd.DataFrame.reindex"
   ]
  },
  {
   "cell_type": "code",
   "execution_count": 20,
   "metadata": {},
   "outputs": [
    {
     "name": "stdout",
     "output_type": "stream",
     "text": [
      "128 µs ± 2.08 µs per loop (mean ± std. dev. of 7 runs, 10000 loops each)\n",
      "284 µs ± 3.09 µs per loop (mean ± std. dev. of 7 runs, 1000 loops each)\n",
      "127 µs ± 558 ns per loop (mean ± std. dev. of 7 runs, 10000 loops each)\n",
      "371 µs ± 7.37 µs per loop (mean ± std. dev. of 7 runs, 1000 loops each)\n",
      "128 µs ± 1.31 µs per loop (mean ± std. dev. of 7 runs, 10000 loops each)\n",
      "201 µs ± 4.44 µs per loop (mean ± std. dev. of 7 runs, 1000 loops each)\n",
      "127 µs ± 1.23 µs per loop (mean ± std. dev. of 7 runs, 10000 loops each)\n",
      "197 µs ± 1.38 µs per loop (mean ± std. dev. of 7 runs, 10000 loops each)\n",
      "128 µs ± 1.4 µs per loop (mean ± std. dev. of 7 runs, 10000 loops each)\n",
      "199 µs ± 4.38 µs per loop (mean ± std. dev. of 7 runs, 1000 loops each)\n"
     ]
    }
   ],
   "source": [
    "speedup = []\n",
    "for d in datasize:\n",
    "    df = pd.DataFrame(np.random.randn(d, 1))\n",
    "    l = np.random.randint(d, size=50)\n",
    "    r1 = df.reindex(l)\n",
    "    r2 = df.loc[l]\n",
    "    assert r1.equals(r2)\n",
    "    t1 = %timeit -o df.reindex(l)\n",
    "    t2 = %timeit -o df.loc[l]\n",
    "    time1 = np.array(t1.timings).mean()\n",
    "    time2 = np.array(t2.timings).mean()\n",
    "    speedup.append(time2/time1)\n",
    "speedup_all['pd.DataFrame.loc vs pd.DataFrame.reindex'] = speedup"
   ]
  },
  {
   "cell_type": "markdown",
   "metadata": {},
   "source": [
    "pd.Series.apply vs pd.Series.map"
   ]
  },
  {
   "cell_type": "code",
   "execution_count": 21,
   "metadata": {},
   "outputs": [
    {
     "name": "stdout",
     "output_type": "stream",
     "text": [
      "77.7 µs ± 676 ns per loop (mean ± std. dev. of 7 runs, 10000 loops each)\n",
      "89.7 µs ± 1.08 µs per loop (mean ± std. dev. of 7 runs, 10000 loops each)\n",
      "234 µs ± 7.53 µs per loop (mean ± std. dev. of 7 runs, 1000 loops each)\n",
      "242 µs ± 2.57 µs per loop (mean ± std. dev. of 7 runs, 1000 loops each)\n",
      "1.86 ms ± 12.6 µs per loop (mean ± std. dev. of 7 runs, 1000 loops each)\n",
      "1.89 ms ± 19.9 µs per loop (mean ± std. dev. of 7 runs, 1000 loops each)\n",
      "19.5 ms ± 398 µs per loop (mean ± std. dev. of 7 runs, 10 loops each)\n",
      "19.3 ms ± 423 µs per loop (mean ± std. dev. of 7 runs, 100 loops each)\n",
      "201 ms ± 1.85 ms per loop (mean ± std. dev. of 7 runs, 10 loops each)\n",
      "201 ms ± 1.87 ms per loop (mean ± std. dev. of 7 runs, 10 loops each)\n"
     ]
    }
   ],
   "source": [
    "speedup = []\n",
    "for d in datasize:\n",
    "    df = pd.DataFrame(data=[[list(x)] for x in np.random.rand(d,2)], columns=['a'])\n",
    "    r1 = df['a'].map(lambda x: x[0])\n",
    "    r2 = df['a'].apply(lambda x: x[0])\n",
    "    assert r1.equals(r2)\n",
    "    t1 = %timeit -o df['a'].map(lambda x: x[0])\n",
    "    t2 = %timeit -o df['a'].apply(lambda x: x[0])\n",
    "    time1 = np.array(t1.timings).mean()\n",
    "    time2 = np.array(t2.timings).mean()\n",
    "    speedup.append(time2/time1)\n",
    "speedup_all['pd.Series.apply vs pd.Series.map'] = speedup"
   ]
  },
  {
   "cell_type": "markdown",
   "metadata": {},
   "source": [
    "pd.DataFrame.iloc vs pd.DataFrame.loc"
   ]
  },
  {
   "cell_type": "code",
   "execution_count": 22,
   "metadata": {},
   "outputs": [
    {
     "name": "stdout",
     "output_type": "stream",
     "text": [
      "119 µs ± 1.59 µs per loop (mean ± std. dev. of 7 runs, 10000 loops each)\n",
      "285 µs ± 5.03 µs per loop (mean ± std. dev. of 7 runs, 1000 loops each)\n",
      "116 µs ± 1.2 µs per loop (mean ± std. dev. of 7 runs, 10000 loops each)\n",
      "369 µs ± 4.05 µs per loop (mean ± std. dev. of 7 runs, 1000 loops each)\n",
      "118 µs ± 1.24 µs per loop (mean ± std. dev. of 7 runs, 10000 loops each)\n",
      "1.13 ms ± 12.7 µs per loop (mean ± std. dev. of 7 runs, 1000 loops each)\n",
      "117 µs ± 1.13 µs per loop (mean ± std. dev. of 7 runs, 10000 loops each)\n",
      "198 µs ± 2.61 µs per loop (mean ± std. dev. of 7 runs, 10000 loops each)\n",
      "120 µs ± 1.91 µs per loop (mean ± std. dev. of 7 runs, 10000 loops each)\n",
      "199 µs ± 1.61 µs per loop (mean ± std. dev. of 7 runs, 10000 loops each)\n"
     ]
    }
   ],
   "source": [
    "speedup = []\n",
    "for d in datasize:\n",
    "    df = pd.DataFrame(np.random.randn(d, 1))\n",
    "    l = np.random.randint(d, size=50)\n",
    "    r1 = df.iloc[l]\n",
    "    r2 = df.loc[l]\n",
    "    assert r1.equals(r2)\n",
    "    t1 = %timeit -o df.iloc[l]\n",
    "    t2 = %timeit -o df.loc[l]\n",
    "    time1 = np.array(t1.timings).mean()\n",
    "    time2 = np.array(t2.timings).mean()\n",
    "    speedup.append(time2/time1)\n",
    "speedup_all['pd.DataFrame.iloc vs pd.DataFrame.loc'] = speedup"
   ]
  },
  {
   "cell_type": "markdown",
   "metadata": {},
   "source": [
    "pd.DataFrame.iat vs pd.DataFrame.iloc"
   ]
  },
  {
   "cell_type": "code",
   "execution_count": 23,
   "metadata": {},
   "outputs": [
    {
     "name": "stdout",
     "output_type": "stream",
     "text": [
      "3.81 µs ± 121 ns per loop (mean ± std. dev. of 7 runs, 100000 loops each)\n",
      "6.09 µs ± 245 ns per loop (mean ± std. dev. of 7 runs, 100000 loops each)\n",
      "3.79 µs ± 130 ns per loop (mean ± std. dev. of 7 runs, 100000 loops each)\n",
      "6.01 µs ± 133 ns per loop (mean ± std. dev. of 7 runs, 100000 loops each)\n",
      "3.91 µs ± 161 ns per loop (mean ± std. dev. of 7 runs, 100000 loops each)\n",
      "5.9 µs ± 134 ns per loop (mean ± std. dev. of 7 runs, 100000 loops each)\n",
      "3.94 µs ± 238 ns per loop (mean ± std. dev. of 7 runs, 100000 loops each)\n",
      "5.97 µs ± 13.5 ns per loop (mean ± std. dev. of 7 runs, 100000 loops each)\n",
      "3.79 µs ± 40.6 ns per loop (mean ± std. dev. of 7 runs, 100000 loops each)\n",
      "5.98 µs ± 203 ns per loop (mean ± std. dev. of 7 runs, 100000 loops each)\n"
     ]
    }
   ],
   "source": [
    "speedup = []\n",
    "for d in datasize:\n",
    "    df = pd.DataFrame(np.random.randn(d, 1))\n",
    "    r = random.randint(0, 10)\n",
    "    r1 = df.iat[r, 0]\n",
    "    r2 = df.iloc[r, 0]\n",
    "    assert r1 == r2\n",
    "    t1 = %timeit -o df.iat[r, 0]\n",
    "    t2 = %timeit -o df.iloc[r, 0]\n",
    "    time1 = np.array(t1.timings).mean()\n",
    "    time2 = np.array(t2.timings).mean()\n",
    "    speedup.append(time2/time1)\n",
    "speedup_all['pd.DataFrame.iat vs pd.DataFrame.iloc'] = speedup"
   ]
  },
  {
   "cell_type": "markdown",
   "metadata": {},
   "source": [
    "np.count_nonzero vs np.ndarray.sum"
   ]
  },
  {
   "cell_type": "code",
   "execution_count": 24,
   "metadata": {},
   "outputs": [
    {
     "name": "stdout",
     "output_type": "stream",
     "text": [
      "956 ns ± 32 ns per loop (mean ± std. dev. of 7 runs, 1000000 loops each)\n",
      "2.62 µs ± 126 ns per loop (mean ± std. dev. of 7 runs, 100000 loops each)\n",
      "1.5 µs ± 24.4 ns per loop (mean ± std. dev. of 7 runs, 1000000 loops each)\n",
      "3.65 µs ± 20.6 ns per loop (mean ± std. dev. of 7 runs, 100000 loops each)\n",
      "5.29 µs ± 73.5 ns per loop (mean ± std. dev. of 7 runs, 100000 loops each)\n",
      "16.2 µs ± 183 ns per loop (mean ± std. dev. of 7 runs, 100000 loops each)\n",
      "54.2 µs ± 501 ns per loop (mean ± std. dev. of 7 runs, 10000 loops each)\n",
      "115 µs ± 2.77 µs per loop (mean ± std. dev. of 7 runs, 10000 loops each)\n",
      "780 µs ± 5.6 µs per loop (mean ± std. dev. of 7 runs, 1000 loops each)\n",
      "1.34 ms ± 16.3 µs per loop (mean ± std. dev. of 7 runs, 1000 loops each)\n"
     ]
    }
   ],
   "source": [
    "speedup = []\n",
    "for d in datasize:\n",
    "    a = np.random.random_sample(d)\n",
    "    r1 = np.count_nonzero(a > 0.5)\n",
    "    r2 = (a > 0.5).sum()\n",
    "    assert np.allclose(r1,r2)\n",
    "    t1 = %timeit -o np.count_nonzero(a > 0.5)\n",
    "    t2 = %timeit -o (a > 0.5).sum()\n",
    "    time1 = np.array(t1.timings).mean()\n",
    "    time2 = np.array(t2.timings).mean()\n",
    "    speedup.append(time2/time1)\n",
    "speedup_all['np.count_nonzero vs np.ndarray.sum'] = speedup"
   ]
  },
  {
   "cell_type": "markdown",
   "metadata": {},
   "source": [
    "pd.Series.apply vs pd.Series.astype"
   ]
  },
  {
   "cell_type": "code",
   "execution_count": 25,
   "metadata": {},
   "outputs": [
    {
     "name": "stdout",
     "output_type": "stream",
     "text": [
      "43.1 µs ± 502 ns per loop (mean ± std. dev. of 7 runs, 10000 loops each)\n",
      "125 µs ± 2.4 µs per loop (mean ± std. dev. of 7 runs, 10000 loops each)\n",
      "118 µs ± 2.31 µs per loop (mean ± std. dev. of 7 runs, 10000 loops each)\n",
      "454 µs ± 19.6 µs per loop (mean ± std. dev. of 7 runs, 1000 loops each)\n",
      "855 µs ± 7.92 µs per loop (mean ± std. dev. of 7 runs, 1000 loops each)\n",
      "3.87 ms ± 123 µs per loop (mean ± std. dev. of 7 runs, 100 loops each)\n",
      "8.9 ms ± 300 µs per loop (mean ± std. dev. of 7 runs, 100 loops each)\n",
      "39.3 ms ± 575 µs per loop (mean ± std. dev. of 7 runs, 10 loops each)\n",
      "95.9 ms ± 1.82 ms per loop (mean ± std. dev. of 7 runs, 10 loops each)\n",
      "400 ms ± 7.7 ms per loop (mean ± std. dev. of 7 runs, 1 loop each)\n"
     ]
    }
   ],
   "source": [
    "speedup = []\n",
    "for d in datasize:\n",
    "    data = list(map(str, np.random.randint(d, size=d)))\n",
    "    df = pd.DataFrame({'a': data})\n",
    "    r1 = df['a'].astype(np.int64)\n",
    "    r2 = df['a'].apply(lambda x: int(x))\n",
    "    assert r1.equals(r2)\n",
    "    t1 = %timeit -o df['a'].astype(np.int64)\n",
    "    t2 = %timeit -o df['a'].apply(lambda x: int(x))\n",
    "    time1 = np.array(t1.timings).mean()\n",
    "    time2 = np.array(t2.timings).mean()\n",
    "    speedup.append(time2/time1)\n",
    "speedup_all['pd.Series.apply vs pd.Series.astype'] = speedup"
   ]
  },
  {
   "cell_type": "markdown",
   "metadata": {},
   "source": [
    "pd.Series.apply vs pd.to_datetime"
   ]
  },
  {
   "cell_type": "code",
   "execution_count": 26,
   "metadata": {
    "scrolled": true
   },
   "outputs": [
    {
     "name": "stdout",
     "output_type": "stream",
     "text": [
      "8.68 ms ± 62 µs per loop (mean ± std. dev. of 7 runs, 100 loops each)\n",
      "6 ms ± 121 µs per loop (mean ± std. dev. of 7 runs, 100 loops each)\n",
      "86.9 ms ± 1.2 ms per loop (mean ± std. dev. of 7 runs, 10 loops each)\n",
      "57.5 ms ± 298 µs per loop (mean ± std. dev. of 7 runs, 10 loops each)\n",
      "852 ms ± 9.86 ms per loop (mean ± std. dev. of 7 runs, 1 loop each)\n",
      "577 ms ± 11.6 ms per loop (mean ± std. dev. of 7 runs, 1 loop each)\n",
      "8.69 s ± 80.7 ms per loop (mean ± std. dev. of 7 runs, 1 loop each)\n",
      "5.8 s ± 63.1 ms per loop (mean ± std. dev. of 7 runs, 1 loop each)\n",
      "The slowest run took 19.97 times longer than the fastest. This could mean that an intermediate result is being cached.\n",
      "5min 20s ± 9min 32s per loop (mean ± std. dev. of 7 runs, 1 loop each)\n",
      "59.4 s ± 41.8 ms per loop (mean ± std. dev. of 7 runs, 1 loop each)\n"
     ]
    }
   ],
   "source": [
    "from dateutil import parser\n",
    "speedup = []\n",
    "for d in datasize:\n",
    "    dates = pd.date_range('2015', freq='min', periods=d)\n",
    "    dates = [date.strftime('%d %b %Y %H:%M:%S') for date in dates]\n",
    "    ser = pd.Series(dates)\n",
    "    r1 = pd.to_datetime(dates)\n",
    "    r2 = ser.apply(lambda x: parser.parse(x))\n",
    "    assert r1.to_series(index=range(d)).equals(r2)\n",
    "    t1 = %timeit -o pd.to_datetime(dates)\n",
    "    t2 = %timeit -o ser.apply(lambda x: parser.parse(x))\n",
    "    time1 = np.array(t1.timings).mean()\n",
    "    time2 = np.array(t2.timings).mean()\n",
    "    speedup.append(time2/time1)\n",
    "speedup_all['pd.Series.apply vs pd.to_datetime'] = speedup"
   ]
  },
  {
   "cell_type": "markdown",
   "metadata": {},
   "source": [
    "np.linalg.norm vs np.ndarray.sum,np.sqrt"
   ]
  },
  {
   "cell_type": "code",
   "execution_count": 27,
   "metadata": {},
   "outputs": [
    {
     "name": "stdout",
     "output_type": "stream",
     "text": [
      "4.89 µs ± 30 ns per loop (mean ± std. dev. of 7 runs, 100000 loops each)\n",
      "5.82 µs ± 78 ns per loop (mean ± std. dev. of 7 runs, 100000 loops each)\n",
      "10.8 µs ± 80.6 ns per loop (mean ± std. dev. of 7 runs, 100000 loops each)\n",
      "12 µs ± 151 ns per loop (mean ± std. dev. of 7 runs, 100000 loops each)\n",
      "33.2 µs ± 601 ns per loop (mean ± std. dev. of 7 runs, 10000 loops each)\n",
      "35.8 µs ± 694 ns per loop (mean ± std. dev. of 7 runs, 10000 loops each)\n",
      "247 µs ± 4.21 µs per loop (mean ± std. dev. of 7 runs, 1000 loops each)\n",
      "249 µs ± 4.77 µs per loop (mean ± std. dev. of 7 runs, 1000 loops each)\n",
      "8.66 ms ± 198 µs per loop (mean ± std. dev. of 7 runs, 100 loops each)\n",
      "8.89 ms ± 162 µs per loop (mean ± std. dev. of 7 runs, 100 loops each)\n"
     ]
    }
   ],
   "source": [
    "speedup = []\n",
    "for d in datasize:\n",
    "    a = np.random.randn(d,1)\n",
    "    r1 = np.sqrt(((a[1:2] - a) ** 2).sum(1))\n",
    "    r2 = np.linalg.norm(a[1:2] - a, axis=1)\n",
    "    assert np.allclose(r1,r2) == True\n",
    "    t1 = %timeit -o np.sqrt(((a[1:2] - a) ** 2).sum(1))\n",
    "    t2 = %timeit -o np.linalg.norm(a[1:2] - a, axis=1)\n",
    "    time1 = np.array(t1.timings).mean()\n",
    "    time2 = np.array(t2.timings).mean()\n",
    "    speedup.append(time2/time1)\n",
    "speedup_all['np.linalg.norm vs np.ndarray.sum,np.sqrt'] = speedup"
   ]
  },
  {
   "cell_type": "markdown",
   "metadata": {},
   "source": [
    "np.empty vs np.full"
   ]
  },
  {
   "cell_type": "code",
   "execution_count": 28,
   "metadata": {},
   "outputs": [
    {
     "name": "stdout",
     "output_type": "stream",
     "text": [
      "926 ns ± 16.4 ns per loop (mean ± std. dev. of 7 runs, 1000000 loops each)\n",
      "1.34 µs ± 10.5 ns per loop (mean ± std. dev. of 7 runs, 1000000 loops each)\n",
      "1.24 µs ± 19.3 ns per loop (mean ± std. dev. of 7 runs, 1000000 loops each)\n",
      "1.65 µs ± 19.4 ns per loop (mean ± std. dev. of 7 runs, 1000000 loops each)\n",
      "4.2 µs ± 50 ns per loop (mean ± std. dev. of 7 runs, 100000 loops each)\n",
      "2.66 µs ± 43.7 ns per loop (mean ± std. dev. of 7 runs, 100000 loops each)\n",
      "27.7 µs ± 403 ns per loop (mean ± std. dev. of 7 runs, 10000 loops each)\n",
      "15.9 µs ± 89.3 ns per loop (mean ± std. dev. of 7 runs, 100000 loops each)\n",
      "2.68 ms ± 64.7 µs per loop (mean ± std. dev. of 7 runs, 100 loops each)\n",
      "1.33 ms ± 13.5 µs per loop (mean ± std. dev. of 7 runs, 1000 loops each)\n"
     ]
    }
   ],
   "source": [
    "speedup = []\n",
    "for d in datasize:\n",
    "    a = np.random.randn(d,1)\n",
    "    r1 = np.empty(d); r1[:] = 0\n",
    "    r2 = np.full(d, 0)\n",
    "    assert np.allclose(r1,r2) == True\n",
    "    t1 = %timeit -o r1 = np.empty(d); r1[:] = 0\n",
    "    t2 = %timeit -o np.full(d, 0)\n",
    "    time1 = np.array(t1.timings).mean()\n",
    "    time2 = np.array(t2.timings).mean()\n",
    "    speedup.append(time2/time1)\n",
    "speedup_all['np.empty vs np.full'] = speedup"
   ]
  },
  {
   "cell_type": "markdown",
   "metadata": {},
   "source": [
    "np.count_nonzero vs np.sum"
   ]
  },
  {
   "cell_type": "code",
   "execution_count": 29,
   "metadata": {},
   "outputs": [
    {
     "name": "stdout",
     "output_type": "stream",
     "text": [
      "1.12 µs ± 12.4 ns per loop (mean ± std. dev. of 7 runs, 1000000 loops each)\n",
      "3.34 µs ± 66 ns per loop (mean ± std. dev. of 7 runs, 100000 loops each)\n",
      "1.74 µs ± 5.41 ns per loop (mean ± std. dev. of 7 runs, 1000000 loops each)\n",
      "4.71 µs ± 171 ns per loop (mean ± std. dev. of 7 runs, 100000 loops each)\n",
      "5.58 µs ± 35 ns per loop (mean ± std. dev. of 7 runs, 100000 loops each)\n",
      "14.4 µs ± 266 ns per loop (mean ± std. dev. of 7 runs, 100000 loops each)\n",
      "48 µs ± 697 ns per loop (mean ± std. dev. of 7 runs, 10000 loops each)\n",
      "107 µs ± 1.21 µs per loop (mean ± std. dev. of 7 runs, 10000 loops each)\n",
      "537 µs ± 24.5 µs per loop (mean ± std. dev. of 7 runs, 1000 loops each)\n",
      "1.1 ms ± 8.34 µs per loop (mean ± std. dev. of 7 runs, 1000 loops each)\n"
     ]
    }
   ],
   "source": [
    "speedup = []\n",
    "for d in datasize:\n",
    "    a = np.random.randn(d)\n",
    "    r1 = np.count_nonzero(a>0)\n",
    "    r2 = np.sum(a>0)\n",
    "    assert np.allclose(r1,r2) == True\n",
    "    t1 = %timeit -o np.count_nonzero(a>0)\n",
    "    t2 = %timeit -o np.sum(a>0)\n",
    "    time1 = np.array(t1.timings).mean()\n",
    "    time2 = np.array(t2.timings).mean()\n",
    "    speedup.append(time2/time1)\n",
    "speedup_all['np.count_nonzero vs np.sum'] = speedup"
   ]
  },
  {
   "cell_type": "markdown",
   "metadata": {},
   "source": [
    "pd.Series.map vs pd.Series.replace"
   ]
  },
  {
   "cell_type": "code",
   "execution_count": 30,
   "metadata": {},
   "outputs": [
    {
     "name": "stdout",
     "output_type": "stream",
     "text": [
      "273 µs ± 2.21 µs per loop (mean ± std. dev. of 7 runs, 1000 loops each)\n",
      "2.17 ms ± 135 µs per loop (mean ± std. dev. of 7 runs, 100 loops each)\n",
      "284 µs ± 3.51 µs per loop (mean ± std. dev. of 7 runs, 1000 loops each)\n",
      "2.63 ms ± 31.9 µs per loop (mean ± std. dev. of 7 runs, 100 loops each)\n",
      "353 µs ± 3 µs per loop (mean ± std. dev. of 7 runs, 1000 loops each)\n",
      "3.58 ms ± 120 µs per loop (mean ± std. dev. of 7 runs, 100 loops each)\n",
      "984 µs ± 16.8 µs per loop (mean ± std. dev. of 7 runs, 1000 loops each)\n",
      "12.8 ms ± 70.9 µs per loop (mean ± std. dev. of 7 runs, 100 loops each)\n",
      "13.6 ms ± 119 µs per loop (mean ± std. dev. of 7 runs, 100 loops each)\n",
      "130 ms ± 3.86 ms per loop (mean ± std. dev. of 7 runs, 10 loops each)\n"
     ]
    }
   ],
   "source": [
    "speedup = []\n",
    "for d in datasize:\n",
    "    df = pd.DataFrame({'A': np.random.randint(1,100,d)})\n",
    "    mapvalue = {i: i+1 for i in range(100)}\n",
    "    r1 = df['A'].map(mapvalue)   \n",
    "    r2 = df['A'].replace(mapvalue)\n",
    "    assert r1.equals(r2)\n",
    "    t1 = %timeit -o df['A'].map(mapvalue)\n",
    "    t2 = %timeit -o df['A'].replace(mapvalue)\n",
    "    time1 = np.array(t1.timings).mean()\n",
    "    time2 = np.array(t2.timings).mean()\n",
    "    speedup.append(time2/time1)\n",
    "speedup_all['pd.Series.map vs pd.Series.replace'] = speedup"
   ]
  },
  {
   "cell_type": "markdown",
   "metadata": {},
   "source": [
    "pd.DataFrame.loc vs pd.DataFrame.query"
   ]
  },
  {
   "cell_type": "code",
   "execution_count": 31,
   "metadata": {},
   "outputs": [
    {
     "name": "stdout",
     "output_type": "stream",
     "text": [
      "252 µs ± 6.84 µs per loop (mean ± std. dev. of 7 runs, 1000 loops each)\n",
      "896 µs ± 11.9 µs per loop (mean ± std. dev. of 7 runs, 1000 loops each)\n",
      "260 µs ± 3.51 µs per loop (mean ± std. dev. of 7 runs, 1000 loops each)\n",
      "913 µs ± 10.2 µs per loop (mean ± std. dev. of 7 runs, 1000 loops each)\n",
      "332 µs ± 5.71 µs per loop (mean ± std. dev. of 7 runs, 1000 loops each)\n",
      "1.16 ms ± 9.95 µs per loop (mean ± std. dev. of 7 runs, 1000 loops each)\n",
      "966 µs ± 5.96 µs per loop (mean ± std. dev. of 7 runs, 1000 loops each)\n",
      "1.91 ms ± 25.3 µs per loop (mean ± std. dev. of 7 runs, 1000 loops each)\n",
      "11.3 ms ± 79.1 µs per loop (mean ± std. dev. of 7 runs, 100 loops each)\n",
      "16.1 ms ± 75.8 µs per loop (mean ± std. dev. of 7 runs, 100 loops each)\n"
     ]
    }
   ],
   "source": [
    "speedup = []\n",
    "for d in datasize:\n",
    "    df = pd.DataFrame(np.random.randn(d, 1), columns=['a'])\n",
    "    r1 = df.loc[df['a'] > 0]\n",
    "    r2 = df.query(\"a>0\")\n",
    "    assert r1.equals(r2)\n",
    "    t1 = %timeit -o df.loc[df['a'] > 0]\n",
    "    t2 = %timeit -o df.query(\"a>0\")\n",
    "    time1 = np.array(t1.timings).mean()\n",
    "    time2 = np.array(t2.timings).mean()\n",
    "    speedup.append(time2/time1)\n",
    "speedup_all['pd.DataFrame.loc vs pd.DataFrame.query'] = speedup"
   ]
  },
  {
   "cell_type": "markdown",
   "metadata": {},
   "source": [
    "np.argmax vs np.where"
   ]
  },
  {
   "cell_type": "code",
   "execution_count": 32,
   "metadata": {},
   "outputs": [
    {
     "name": "stdout",
     "output_type": "stream",
     "text": [
      "1.94 µs ± 109 ns per loop (mean ± std. dev. of 7 runs, 100000 loops each)\n",
      "1.47 µs ± 18.7 ns per loop (mean ± std. dev. of 7 runs, 1000000 loops each)\n",
      "2.12 µs ± 35.6 ns per loop (mean ± std. dev. of 7 runs, 100000 loops each)\n",
      "5.38 µs ± 208 ns per loop (mean ± std. dev. of 7 runs, 100000 loops each)\n",
      "4.31 µs ± 104 ns per loop (mean ± std. dev. of 7 runs, 100000 loops each)\n",
      "38.3 µs ± 468 ns per loop (mean ± std. dev. of 7 runs, 10000 loops each)\n",
      "24.4 µs ± 477 ns per loop (mean ± std. dev. of 7 runs, 10000 loops each)\n",
      "368 µs ± 4.24 µs per loop (mean ± std. dev. of 7 runs, 1000 loops each)\n",
      "287 µs ± 28.5 µs per loop (mean ± std. dev. of 7 runs, 1000 loops each)\n",
      "4.88 ms ± 58.4 µs per loop (mean ± std. dev. of 7 runs, 100 loops each)\n"
     ]
    }
   ],
   "source": [
    "speedup = []\n",
    "for d in datasize:\n",
    "    a = np.random.randn(d)\n",
    "    r1 = np.argmax(a>0)\n",
    "    r2 = np.where(a>0)[0][0]\n",
    "    assert r1 == r2\n",
    "    t1 = %timeit -o np.argmax(a>0)\n",
    "    t2 = %timeit -o np.where(a>0)[0][0]\n",
    "    time1 = np.array(t1.timings).mean()\n",
    "    time2 = np.array(t2.timings).mean()\n",
    "    speedup.append(time2/time1)\n",
    "speedup_all['np.argmax vs np.where'] = speedup"
   ]
  },
  {
   "cell_type": "markdown",
   "metadata": {},
   "source": [
    "pd.DataFrame.groupby,pd.core.groupby.GroupBy.size,pd.Series.unstack vs pd.DataFrame.groupby,pd.core.groupby.SeriesGroupBy.value_counts,pd.Series.unstack"
   ]
  },
  {
   "cell_type": "code",
   "execution_count": 33,
   "metadata": {},
   "outputs": [
    {
     "name": "stdout",
     "output_type": "stream",
     "text": [
      "979 µs ± 3.97 µs per loop (mean ± std. dev. of 7 runs, 1000 loops each)\n",
      "964 µs ± 10.2 µs per loop (mean ± std. dev. of 7 runs, 1000 loops each)\n",
      "1.02 ms ± 3.87 µs per loop (mean ± std. dev. of 7 runs, 1000 loops each)\n",
      "1.07 ms ± 27.6 µs per loop (mean ± std. dev. of 7 runs, 1000 loops each)\n",
      "1.43 ms ± 20 µs per loop (mean ± std. dev. of 7 runs, 1000 loops each)\n",
      "2.09 ms ± 31.8 µs per loop (mean ± std. dev. of 7 runs, 100 loops each)\n",
      "5.13 ms ± 52.6 µs per loop (mean ± std. dev. of 7 runs, 100 loops each)\n",
      "15 ms ± 161 µs per loop (mean ± std. dev. of 7 runs, 100 loops each)\n",
      "75.1 ms ± 1.09 ms per loop (mean ± std. dev. of 7 runs, 10 loops each)\n",
      "207 ms ± 4.54 ms per loop (mean ± std. dev. of 7 runs, 1 loop each)\n"
     ]
    }
   ],
   "source": [
    "speedup = []\n",
    "for d in datasize:\n",
    "    df = pd.DataFrame(columns=['id', 'category'])\n",
    "    df['id'] = np.random.randint(3, size=d)\n",
    "    df['category'] = np.random.choice(['a','b','c'], d)\n",
    "    r1 = df.groupby(['id','category']).size().unstack(fill_value=0) \n",
    "    r2 = df.groupby('id').category.value_counts().unstack(fill_value=0)\n",
    "    assert r1.equals(r2)\n",
    "    t1 = %timeit -o df.groupby(['id','category']).size().unstack(fill_value=0)\n",
    "    t2 = %timeit -o df.groupby('id').category.value_counts().unstack(fill_value=0)\n",
    "    time1 = np.array(t1.timings).mean()\n",
    "    time2 = np.array(t2.timings).mean()\n",
    "    speedup.append(time2/time1)\n",
    "speedup_all['pd.DataFrame.groupby,pd.core.groupby.GroupBy.size,pd.Series.unstack vs pd.DataFrame.groupby,pd.core.groupby.SeriesGroupBy.value_counts,pd.Series.unstack'] = speedup"
   ]
  },
  {
   "cell_type": "markdown",
   "metadata": {},
   "source": [
    "np.nonzero vs np.where"
   ]
  },
  {
   "cell_type": "code",
   "execution_count": 34,
   "metadata": {},
   "outputs": [
    {
     "name": "stdout",
     "output_type": "stream",
     "text": [
      "1.08 µs ± 19.5 ns per loop (mean ± std. dev. of 7 runs, 1000000 loops each)\n",
      "1.28 µs ± 7.43 ns per loop (mean ± std. dev. of 7 runs, 1000000 loops each)\n",
      "3.72 µs ± 99.5 ns per loop (mean ± std. dev. of 7 runs, 100000 loops each)\n",
      "3.95 µs ± 19.5 ns per loop (mean ± std. dev. of 7 runs, 100000 loops each)\n",
      "30.7 µs ± 376 ns per loop (mean ± std. dev. of 7 runs, 10000 loops each)\n",
      "31.2 µs ± 312 ns per loop (mean ± std. dev. of 7 runs, 10000 loops each)\n",
      "299 µs ± 2.44 µs per loop (mean ± std. dev. of 7 runs, 1000 loops each)\n",
      "300 µs ± 2.11 µs per loop (mean ± std. dev. of 7 runs, 1000 loops each)\n",
      "3.81 ms ± 89.5 µs per loop (mean ± std. dev. of 7 runs, 100 loops each)\n",
      "3.76 ms ± 41.3 µs per loop (mean ± std. dev. of 7 runs, 100 loops each)\n"
     ]
    }
   ],
   "source": [
    "speedup = []\n",
    "for d in datasize:\n",
    "    a = np.random.randn(d)\n",
    "    r1 = np.where(a > 0.5)\n",
    "    r2 = np.nonzero(a > 0.5)\n",
    "    assert np.allclose(r1,r2) == True\n",
    "    t1 = %timeit -o np.where(a > 0.5)\n",
    "    t2 = %timeit -o np.nonzero(a > 0.5)\n",
    "    time1 = np.array(t1.timings).mean()\n",
    "    time2 = np.array(t2.timings).mean()\n",
    "    speedup.append(time2/time1)\n",
    "speedup_all['np.nonzero vs np.where'] = speedup"
   ]
  },
  {
   "cell_type": "markdown",
   "metadata": {},
   "source": [
    "np.ndarray.dot vs np.tensordot"
   ]
  },
  {
   "cell_type": "code",
   "execution_count": 35,
   "metadata": {},
   "outputs": [
    {
     "name": "stdout",
     "output_type": "stream",
     "text": [
      "986 ns ± 9.22 ns per loop (mean ± std. dev. of 7 runs, 1000000 loops each)\n",
      "11.8 µs ± 277 ns per loop (mean ± std. dev. of 7 runs, 100000 loops each)\n",
      "2.85 µs ± 41.4 ns per loop (mean ± std. dev. of 7 runs, 100000 loops each)\n",
      "13.7 µs ± 159 ns per loop (mean ± std. dev. of 7 runs, 100000 loops each)\n",
      "20 µs ± 347 ns per loop (mean ± std. dev. of 7 runs, 10000 loops each)\n",
      "31.1 µs ± 254 ns per loop (mean ± std. dev. of 7 runs, 10000 loops each)\n",
      "193 µs ± 1.49 µs per loop (mean ± std. dev. of 7 runs, 10000 loops each)\n",
      "203 µs ± 3.69 µs per loop (mean ± std. dev. of 7 runs, 1000 loops each)\n",
      "1.93 ms ± 7.64 µs per loop (mean ± std. dev. of 7 runs, 1000 loops each)\n",
      "1.96 ms ± 76.1 µs per loop (mean ± std. dev. of 7 runs, 100 loops each)\n"
     ]
    }
   ],
   "source": [
    "speedup = []\n",
    "for d in datasize:\n",
    "    a = np.random.randint(100, size=(5, int(d/5)))\n",
    "    b = np.random.randint(100, size=(5, int(d/5)))\n",
    "    r1 = b.dot(a.T)\n",
    "    r2 = np.tensordot(b,a,axes=((1,1)))\n",
    "    assert np.allclose(r1, r2) == True\n",
    "    t1 = %timeit -o  b.dot(a.T)\n",
    "    t2 = %timeit -o np.tensordot(b,a,axes=((1,1)))\n",
    "    time1 = np.array(t1.timings).mean()\n",
    "    time2 = np.array(t2.timings).mean()\n",
    "    speedup.append(time2/time1)\n",
    "speedup_all['np.ndarray.dot vs np.tensordot'] = speedup"
   ]
  },
  {
   "cell_type": "markdown",
   "metadata": {},
   "source": [
    "pd.DataFrame.combine_first vs pd.DataFrame.fillna"
   ]
  },
  {
   "cell_type": "code",
   "execution_count": 36,
   "metadata": {},
   "outputs": [
    {
     "name": "stdout",
     "output_type": "stream",
     "text": [
      "710 µs ± 14.1 µs per loop (mean ± std. dev. of 7 runs, 1000 loops each)\n",
      "682 µs ± 4.25 µs per loop (mean ± std. dev. of 7 runs, 1000 loops each)\n",
      "706 µs ± 5.05 µs per loop (mean ± std. dev. of 7 runs, 1000 loops each)\n",
      "705 µs ± 10.3 µs per loop (mean ± std. dev. of 7 runs, 1000 loops each)\n",
      "737 µs ± 4.72 µs per loop (mean ± std. dev. of 7 runs, 1000 loops each)\n",
      "809 µs ± 4.46 µs per loop (mean ± std. dev. of 7 runs, 1000 loops each)\n",
      "995 µs ± 18.2 µs per loop (mean ± std. dev. of 7 runs, 1000 loops each)\n",
      "1.97 ms ± 35.9 µs per loop (mean ± std. dev. of 7 runs, 100 loops each)\n",
      "9.17 ms ± 117 µs per loop (mean ± std. dev. of 7 runs, 100 loops each)\n",
      "15.5 ms ± 95.6 µs per loop (mean ± std. dev. of 7 runs, 100 loops each)\n"
     ]
    }
   ],
   "source": [
    "speedup = []\n",
    "for d in datasize:\n",
    "    indices = np.random.randint(d, size=int(d/2))\n",
    "    df1 = pd.DataFrame(np.random.randn(d, 1))\n",
    "    df2 = df1.copy()\n",
    "    df2.iloc[indices, 0] =np.nan\n",
    "    r1 = df1.fillna(df2)\n",
    "    r2 = df1.combine_first(df2)\n",
    "    assert r1.equals(r2)\n",
    "    t1 = %timeit -o df1.fillna(df2)\n",
    "    t2 = %timeit -o df1.combine_first(df2)\n",
    "    time1 = np.array(t1.timings).mean()\n",
    "    time2 = np.array(t2.timings).mean()\n",
    "    speedup.append(time2/time1)\n",
    "speedup_all['pd.DataFrame.combine_first vs pd.DataFrame.fillna'] = speedup"
   ]
  },
  {
   "cell_type": "markdown",
   "metadata": {},
   "source": [
    "np.append vs np.hstack"
   ]
  },
  {
   "cell_type": "code",
   "execution_count": 37,
   "metadata": {},
   "outputs": [
    {
     "name": "stdout",
     "output_type": "stream",
     "text": [
      "2.31 µs ± 44.2 ns per loop (mean ± std. dev. of 7 runs, 100000 loops each)\n",
      "2.4 µs ± 59.4 ns per loop (mean ± std. dev. of 7 runs, 100000 loops each)\n",
      "2.39 µs ± 75.8 ns per loop (mean ± std. dev. of 7 runs, 100000 loops each)\n",
      "2.68 µs ± 24.8 ns per loop (mean ± std. dev. of 7 runs, 100000 loops each)\n",
      "5.4 µs ± 30.3 ns per loop (mean ± std. dev. of 7 runs, 100000 loops each)\n",
      "5.39 µs ± 104 ns per loop (mean ± std. dev. of 7 runs, 100000 loops each)\n",
      "34.1 µs ± 616 ns per loop (mean ± std. dev. of 7 runs, 10000 loops each)\n",
      "34.8 µs ± 1.06 µs per loop (mean ± std. dev. of 7 runs, 10000 loops each)\n",
      "1.58 ms ± 19.2 µs per loop (mean ± std. dev. of 7 runs, 1000 loops each)\n",
      "1.61 ms ± 11.2 µs per loop (mean ± std. dev. of 7 runs, 1000 loops each)\n"
     ]
    }
   ],
   "source": [
    "speedup = []\n",
    "for d in datasize:\n",
    "    A = np.arange(d)\n",
    "    r1 = np.append(A,A)\n",
    "    r2 = np.hstack((A,A))\n",
    "    assert np.allclose(r1, r2) == True\n",
    "    t1 = %timeit -o np.append(A,A)\n",
    "    t2 = %timeit -o np.hstack((A,A))\n",
    "    time1 = np.array(t1.timings).mean()\n",
    "    time2 = np.array(t2.timings).mean()\n",
    "    speedup.append(time2/time1)\n",
    "speedup_all['np.append vs np.hstack'] = speedup"
   ]
  },
  {
   "cell_type": "markdown",
   "metadata": {},
   "source": [
    "np.c_ vs np.hstack"
   ]
  },
  {
   "cell_type": "code",
   "execution_count": 38,
   "metadata": {},
   "outputs": [
    {
     "name": "stdout",
     "output_type": "stream",
     "text": [
      "2.69 µs ± 113 ns per loop (mean ± std. dev. of 7 runs, 100000 loops each)\n",
      "12.6 µs ± 439 ns per loop (mean ± std. dev. of 7 runs, 100000 loops each)\n",
      "3.53 µs ± 74.5 ns per loop (mean ± std. dev. of 7 runs, 100000 loops each)\n",
      "13.1 µs ± 258 ns per loop (mean ± std. dev. of 7 runs, 100000 loops each)\n",
      "15.1 µs ± 164 ns per loop (mean ± std. dev. of 7 runs, 100000 loops each)\n",
      "25.7 µs ± 689 ns per loop (mean ± std. dev. of 7 runs, 10000 loops each)\n",
      "559 µs ± 3.6 µs per loop (mean ± std. dev. of 7 runs, 1000 loops each)\n",
      "568 µs ± 5.09 µs per loop (mean ± std. dev. of 7 runs, 1000 loops each)\n",
      "6.57 ms ± 73.3 µs per loop (mean ± std. dev. of 7 runs, 100 loops each)\n",
      "7.2 ms ± 1.21 ms per loop (mean ± std. dev. of 7 runs, 100 loops each)\n"
     ]
    }
   ],
   "source": [
    "speedup = []\n",
    "for d in datasize:\n",
    "    A = np.random.rand(d,1)\n",
    "    B = np.random.rand(d,1)\n",
    "    r1 = np.hstack((A,B))\n",
    "    r2 = np.c_[A, B]\n",
    "    assert np.allclose(r1, r2) == True\n",
    "    t1 = %timeit -o np.hstack((A,B))\n",
    "    t2 = %timeit -o np.c_[A, B]\n",
    "    time1 = np.array(t1.timings).mean()\n",
    "    time2 = np.array(t2.timings).mean()\n",
    "    speedup.append(time2/time1)\n",
    "speedup_all['np.c_ vs np.hstack'] = speedup"
   ]
  },
  {
   "cell_type": "markdown",
   "metadata": {},
   "source": [
    "np.full vs np.zeros"
   ]
  },
  {
   "cell_type": "code",
   "execution_count": 39,
   "metadata": {},
   "outputs": [
    {
     "name": "stdout",
     "output_type": "stream",
     "text": [
      "548 ns ± 17.2 ns per loop (mean ± std. dev. of 7 runs, 1000000 loops each)\n",
      "1.41 µs ± 37.5 ns per loop (mean ± std. dev. of 7 runs, 1000000 loops each)\n",
      "866 ns ± 23.5 ns per loop (mean ± std. dev. of 7 runs, 1000000 loops each)\n",
      "1.67 µs ± 13.6 ns per loop (mean ± std. dev. of 7 runs, 1000000 loops each)\n",
      "3.36 µs ± 101 ns per loop (mean ± std. dev. of 7 runs, 100000 loops each)\n",
      "2.69 µs ± 48.3 ns per loop (mean ± std. dev. of 7 runs, 100000 loops each)\n",
      "25.1 µs ± 426 ns per loop (mean ± std. dev. of 7 runs, 10000 loops each)\n",
      "13 µs ± 94.1 ns per loop (mean ± std. dev. of 7 runs, 100000 loops each)\n",
      "92.5 µs ± 783 ns per loop (mean ± std. dev. of 7 runs, 10000 loops each)\n",
      "1.3 ms ± 12.1 µs per loop (mean ± std. dev. of 7 runs, 1000 loops each)\n"
     ]
    }
   ],
   "source": [
    "speedup = []\n",
    "for d in datasize:\n",
    "    r1 = np.zeros(d)\n",
    "    r2 = np.full(d, 0)\n",
    "    assert np.allclose(r1, r2) == True\n",
    "    t1 = %timeit -o np.zeros(d)\n",
    "    t2 = %timeit -o np.full(d, 0)\n",
    "    time1 = np.array(t1.timings).mean()\n",
    "    time2 = np.array(t2.timings).mean()\n",
    "    speedup.append(time2/time1)\n",
    "speedup_all['np.full vs np.zeros'] = speedup"
   ]
  },
  {
   "cell_type": "markdown",
   "metadata": {},
   "source": [
    "np.concatenate vs np.vstack"
   ]
  },
  {
   "cell_type": "code",
   "execution_count": 40,
   "metadata": {},
   "outputs": [
    {
     "name": "stdout",
     "output_type": "stream",
     "text": [
      "1.08 µs ± 11.3 ns per loop (mean ± std. dev. of 7 runs, 1000000 loops each)\n",
      "2.42 µs ± 47.3 ns per loop (mean ± std. dev. of 7 runs, 100000 loops each)\n",
      "1.36 µs ± 17.7 ns per loop (mean ± std. dev. of 7 runs, 1000000 loops each)\n",
      "2.81 µs ± 73.1 ns per loop (mean ± std. dev. of 7 runs, 100000 loops each)\n",
      "7.03 µs ± 42.7 ns per loop (mean ± std. dev. of 7 runs, 100000 loops each)\n",
      "8.69 µs ± 26.1 ns per loop (mean ± std. dev. of 7 runs, 100000 loops each)\n",
      "551 µs ± 1.22 µs per loop (mean ± std. dev. of 7 runs, 1000 loops each)\n",
      "554 µs ± 2.49 µs per loop (mean ± std. dev. of 7 runs, 1000 loops each)\n",
      "3.11 ms ± 95.8 µs per loop (mean ± std. dev. of 7 runs, 100 loops each)\n",
      "3.11 ms ± 90.7 µs per loop (mean ± std. dev. of 7 runs, 100 loops each)\n"
     ]
    }
   ],
   "source": [
    "speedup = []\n",
    "for d in datasize:\n",
    "    a = np.random.normal(size=(1,d))\n",
    "    r1 = np.concatenate((a,a),axis=0)\n",
    "    r2 = np.vstack((a,a))\n",
    "    assert np.allclose(r1, r2) == True\n",
    "    t1 = %timeit -o np.concatenate((a,a),axis=0)\n",
    "    t2 = %timeit -o np.vstack((a,a))\n",
    "    time1 = np.array(t1.timings).mean()\n",
    "    time2 = np.array(t2.timings).mean()\n",
    "    speedup.append(time2/time1)\n",
    "speedup_all['np.concatenate vs np.vstack'] = speedup"
   ]
  },
  {
   "cell_type": "markdown",
   "metadata": {},
   "source": [
    "np.atleast_2d vs np.ndarray.reshape"
   ]
  },
  {
   "cell_type": "code",
   "execution_count": 41,
   "metadata": {},
   "outputs": [
    {
     "name": "stdout",
     "output_type": "stream",
     "text": [
      "1.25 µs ± 35.8 ns per loop (mean ± std. dev. of 7 runs, 1000000 loops each)\n",
      "2.09 µs ± 103 ns per loop (mean ± std. dev. of 7 runs, 100000 loops each)\n",
      "2.12 µs ± 45.9 ns per loop (mean ± std. dev. of 7 runs, 100000 loops each)\n",
      "2.93 µs ± 112 ns per loop (mean ± std. dev. of 7 runs, 100000 loops each)\n",
      "8.81 µs ± 54.9 ns per loop (mean ± std. dev. of 7 runs, 100000 loops each)\n",
      "10 µs ± 150 ns per loop (mean ± std. dev. of 7 runs, 100000 loops each)\n",
      "59.7 µs ± 387 ns per loop (mean ± std. dev. of 7 runs, 10000 loops each)\n",
      "60.9 µs ± 503 ns per loop (mean ± std. dev. of 7 runs, 10000 loops each)\n",
      "1.52 ms ± 14.4 µs per loop (mean ± std. dev. of 7 runs, 1000 loops each)\n",
      "1.53 ms ± 21.8 µs per loop (mean ± std. dev. of 7 runs, 1000 loops each)\n"
     ]
    }
   ],
   "source": [
    "speedup = []\n",
    "for d in datasize:\n",
    "    x = np.random.randint(10, size=d).reshape(5,int(d/5))\n",
    "    y = np.arange(5)\n",
    "    r1 = x * y.reshape(-1, 1)\n",
    "    r2 = x * np.atleast_2d(y).T\n",
    "    assert np.allclose(r1, r2) == True\n",
    "    t1 = %timeit -o x * y.reshape(-1, 1)\n",
    "    t2 = %timeit -o x * np.atleast_2d(y).T\n",
    "    time1 = np.array(t1.timings).mean()\n",
    "    time2 = np.array(t2.timings).mean()\n",
    "    speedup.append(time2/time1)\n",
    "speedup_all['np.atleast_2d vs np.ndarray.reshape'] = speedup"
   ]
  },
  {
   "cell_type": "markdown",
   "metadata": {},
   "source": [
    "np.arange vs np.array"
   ]
  },
  {
   "cell_type": "code",
   "execution_count": 42,
   "metadata": {},
   "outputs": [
    {
     "name": "stdout",
     "output_type": "stream",
     "text": [
      "521 ns ± 20.4 ns per loop (mean ± std. dev. of 7 runs, 1000000 loops each)\n",
      "7.73 µs ± 214 ns per loop (mean ± std. dev. of 7 runs, 100000 loops each)\n",
      "909 ns ± 14.1 ns per loop (mean ± std. dev. of 7 runs, 1000000 loops each)\n",
      "64.1 µs ± 1.14 µs per loop (mean ± std. dev. of 7 runs, 10000 loops each)\n",
      "4.87 µs ± 145 ns per loop (mean ± std. dev. of 7 runs, 100000 loops each)\n",
      "648 µs ± 5 µs per loop (mean ± std. dev. of 7 runs, 1000 loops each)\n",
      "43.8 µs ± 296 ns per loop (mean ± std. dev. of 7 runs, 10000 loops each)\n",
      "6.53 ms ± 160 µs per loop (mean ± std. dev. of 7 runs, 100 loops each)\n",
      "1.38 ms ± 6.87 µs per loop (mean ± std. dev. of 7 runs, 1000 loops each)\n",
      "80.2 ms ± 1.69 ms per loop (mean ± std. dev. of 7 runs, 10 loops each)\n"
     ]
    }
   ],
   "source": [
    "speedup = []\n",
    "for d in datasize:\n",
    "    r1 = np.arange(d)\n",
    "    r2 = np.array(range(d))\n",
    "    assert np.allclose(r1, r2) == True\n",
    "    t1 = %timeit -o np.arange(d)\n",
    "    t2 = %timeit -o np.array(range(d))\n",
    "    time1 = np.array(t1.timings).mean()\n",
    "    time2 = np.array(t2.timings).mean()\n",
    "    speedup.append(time2/time1)\n",
    "speedup_all['np.arange vs np.array'] = speedup"
   ]
  },
  {
   "cell_type": "markdown",
   "metadata": {},
   "source": [
    "np.einsum vs np.ndarray.dot,np.einsum"
   ]
  },
  {
   "cell_type": "code",
   "execution_count": 43,
   "metadata": {},
   "outputs": [
    {
     "name": "stdout",
     "output_type": "stream",
     "text": [
      "1.98 µs ± 71.6 ns per loop (mean ± std. dev. of 7 runs, 100000 loops each)\n",
      "1.66 µs ± 22.8 ns per loop (mean ± std. dev. of 7 runs, 1000000 loops each)\n",
      "3.34 µs ± 104 ns per loop (mean ± std. dev. of 7 runs, 100000 loops each)\n",
      "2.77 µs ± 100 ns per loop (mean ± std. dev. of 7 runs, 100000 loops each)\n",
      "23.3 µs ± 623 ns per loop (mean ± std. dev. of 7 runs, 10000 loops each)\n",
      "11.8 µs ± 95.2 ns per loop (mean ± std. dev. of 7 runs, 100000 loops each)\n",
      "170 µs ± 1.01 µs per loop (mean ± std. dev. of 7 runs, 10000 loops each)\n",
      "86.9 µs ± 2.37 µs per loop (mean ± std. dev. of 7 runs, 10000 loops each)\n",
      "7.65 ms ± 121 µs per loop (mean ± std. dev. of 7 runs, 100 loops each)\n",
      "3.35 ms ± 27.9 µs per loop (mean ± std. dev. of 7 runs, 100 loops each)\n"
     ]
    }
   ],
   "source": [
    "speedup = []\n",
    "for d in datasize:\n",
    "    X = np.random.randn(d, 1)\n",
    "    M = np.random.rand(1, 1)\n",
    "    r1 = np.einsum('ij,ij->i',X.dot(M),X)\n",
    "    r2 = np.einsum('ij,jk,ik->i', X, M, X)\n",
    "    assert np.allclose(r1, r2) == True\n",
    "    t1 = %timeit -o np.einsum('ij,ij->i',X.dot(M),X)\n",
    "    t2 = %timeit -o np.einsum('ij,jk,ik->i', X, M, X)\n",
    "    time1 = np.array(t1.timings).mean()\n",
    "    time2 = np.array(t2.timings).mean()\n",
    "    speedup.append(time2/time1)\n",
    "speedup_all['np.einsum vs np.ndarray.dot,np.einsum'] = speedup"
   ]
  },
  {
   "cell_type": "markdown",
   "metadata": {},
   "source": [
    "pd.Series.iat vs pd.Series.iloc"
   ]
  },
  {
   "cell_type": "code",
   "execution_count": 44,
   "metadata": {},
   "outputs": [
    {
     "name": "stdout",
     "output_type": "stream",
     "text": [
      "4.26 µs ± 111 ns per loop (mean ± std. dev. of 7 runs, 100000 loops each)\n",
      "7.93 µs ± 91.1 ns per loop (mean ± std. dev. of 7 runs, 100000 loops each)\n",
      "4.12 µs ± 122 ns per loop (mean ± std. dev. of 7 runs, 100000 loops each)\n",
      "8.02 µs ± 279 ns per loop (mean ± std. dev. of 7 runs, 100000 loops each)\n",
      "4.11 µs ± 103 ns per loop (mean ± std. dev. of 7 runs, 100000 loops each)\n",
      "7.83 µs ± 80.6 ns per loop (mean ± std. dev. of 7 runs, 100000 loops each)\n",
      "4.11 µs ± 221 ns per loop (mean ± std. dev. of 7 runs, 100000 loops each)\n",
      "7.78 µs ± 173 ns per loop (mean ± std. dev. of 7 runs, 100000 loops each)\n",
      "4.1 µs ± 93.4 ns per loop (mean ± std. dev. of 7 runs, 100000 loops each)\n",
      "7.91 µs ± 292 ns per loop (mean ± std. dev. of 7 runs, 100000 loops each)\n"
     ]
    }
   ],
   "source": [
    "speedup = []\n",
    "for d in datasize:\n",
    "    df = pd.DataFrame(np.random.randn(d, 1), columns=['a'])\n",
    "    r = random.randint(0, 10)\n",
    "    r1 = df['a'].iat[r]\n",
    "    r2 = df['a'].iloc[r]\n",
    "    assert r1 == r2\n",
    "    t1 = %timeit -o df['a'].iat[r]\n",
    "    t2 = %timeit -o df['a'].iloc[r]\n",
    "    time1 = np.array(t1.timings).mean()\n",
    "    time2 = np.array(t2.timings).mean()\n",
    "    speedup.append(time2/time1)\n",
    "speedup_all['pd.Series.iat vs pd.Series.iloc'] = speedup"
   ]
  },
  {
   "cell_type": "markdown",
   "metadata": {},
   "source": [
    "np.cumprod vs pd.DataFrame.cumprod"
   ]
  },
  {
   "cell_type": "code",
   "execution_count": 45,
   "metadata": {},
   "outputs": [
    {
     "name": "stdout",
     "output_type": "stream",
     "text": [
      "3.6 µs ± 92.1 ns per loop (mean ± std. dev. of 7 runs, 100000 loops each)\n",
      "314 µs ± 4.58 µs per loop (mean ± std. dev. of 7 runs, 1000 loops each)\n",
      "6.61 µs ± 59.2 ns per loop (mean ± std. dev. of 7 runs, 100000 loops each)\n",
      "321 µs ± 3.03 µs per loop (mean ± std. dev. of 7 runs, 1000 loops each)\n",
      "38.8 µs ± 484 ns per loop (mean ± std. dev. of 7 runs, 10000 loops each)\n",
      "371 µs ± 2.56 µs per loop (mean ± std. dev. of 7 runs, 1000 loops each)\n",
      "296 µs ± 1.6 µs per loop (mean ± std. dev. of 7 runs, 1000 loops each)\n",
      "1.18 ms ± 10.5 µs per loop (mean ± std. dev. of 7 runs, 1000 loops each)\n",
      "9.47 ms ± 23.5 µs per loop (mean ± std. dev. of 7 runs, 100 loops each)\n",
      "12.6 ms ± 257 µs per loop (mean ± std. dev. of 7 runs, 100 loops each)\n"
     ]
    }
   ],
   "source": [
    "speedup = []\n",
    "for d in datasize:\n",
    "    arr = np.random.randn(d, 1)\n",
    "    df = pd.DataFrame(arr)\n",
    "    r1 = np.cumprod(1 + arr, axis=0) - 1\n",
    "    r2 = ((1 + df).cumprod(axis=0) - 1)\n",
    "    assert np.allclose(r1,r2) == True\n",
    "    t1 = %timeit -o np.cumprod(1 + arr, axis=0) - 1\n",
    "    t2 = %timeit -o ((1 + df).cumprod(axis=0) - 1)\n",
    "    time1 = np.array(t1.timings).mean()\n",
    "    time2 = np.array(t2.timings).mean()\n",
    "    speedup.append(time2/time1)\n",
    "speedup_all['np.cumprod vs pd.DataFrame.cumprod'] = speedup"
   ]
  },
  {
   "cell_type": "markdown",
   "metadata": {},
   "source": [
    "np.array vs np.concatenate"
   ]
  },
  {
   "cell_type": "code",
   "execution_count": 46,
   "metadata": {},
   "outputs": [
    {
     "name": "stdout",
     "output_type": "stream",
     "text": [
      "1.23 µs ± 24.5 ns per loop (mean ± std. dev. of 7 runs, 1000000 loops each)\n",
      "1.22 µs ± 17.6 ns per loop (mean ± std. dev. of 7 runs, 1000000 loops each)\n",
      "1.49 µs ± 50.8 ns per loop (mean ± std. dev. of 7 runs, 1000000 loops each)\n",
      "1.46 µs ± 16.2 ns per loop (mean ± std. dev. of 7 runs, 1000000 loops each)\n",
      "7.24 µs ± 129 ns per loop (mean ± std. dev. of 7 runs, 100000 loops each)\n",
      "7.25 µs ± 47.3 ns per loop (mean ± std. dev. of 7 runs, 100000 loops each)\n",
      "552 µs ± 2.04 µs per loop (mean ± std. dev. of 7 runs, 1000 loops each)\n",
      "560 µs ± 16.2 µs per loop (mean ± std. dev. of 7 runs, 1000 loops each)\n",
      "3.13 ms ± 59 µs per loop (mean ± std. dev. of 7 runs, 100 loops each)\n",
      "3.2 ms ± 59.3 µs per loop (mean ± std. dev. of 7 runs, 100 loops each)\n"
     ]
    }
   ],
   "source": [
    "speedup = []\n",
    "for d in datasize:\n",
    "    X = np.random.randn(d)\n",
    "    r1 = np.concatenate((X[None], X[None]), 0)\n",
    "    r2 = np.array([X, X])\n",
    "    assert np.allclose(r1, r2) == True\n",
    "    t1 = %timeit -o np.concatenate((X[None], X[None]), 0)\n",
    "    t2 = %timeit -o np.array([X, X])\n",
    "    time1 = np.array(t1.timings).mean()\n",
    "    time2 = np.array(t2.timings).mean()\n",
    "    speedup.append(time2/time1)\n",
    "speedup_all['np.array vs np.concatenate'] = speedup"
   ]
  },
  {
   "cell_type": "markdown",
   "metadata": {},
   "source": [
    "pd.DataFrame.pivot_table vs pd.crosstab"
   ]
  },
  {
   "cell_type": "code",
   "execution_count": 47,
   "metadata": {
    "scrolled": true
   },
   "outputs": [
    {
     "name": "stdout",
     "output_type": "stream",
     "text": [
      "2.37 ms ± 60.7 µs per loop (mean ± std. dev. of 7 runs, 100 loops each)\n",
      "4.68 ms ± 54.5 µs per loop (mean ± std. dev. of 7 runs, 100 loops each)\n",
      "2.54 ms ± 135 µs per loop (mean ± std. dev. of 7 runs, 100 loops each)\n",
      "4.83 ms ± 60.9 µs per loop (mean ± std. dev. of 7 runs, 100 loops each)\n",
      "3.09 ms ± 40 µs per loop (mean ± std. dev. of 7 runs, 100 loops each)\n",
      "5.27 ms ± 74.5 µs per loop (mean ± std. dev. of 7 runs, 100 loops each)\n",
      "9.59 ms ± 299 µs per loop (mean ± std. dev. of 7 runs, 100 loops each)\n",
      "10.2 ms ± 156 µs per loop (mean ± std. dev. of 7 runs, 100 loops each)\n",
      "126 ms ± 2.88 ms per loop (mean ± std. dev. of 7 runs, 10 loops each)\n",
      "113 ms ± 1.57 ms per loop (mean ± std. dev. of 7 runs, 10 loops each)\n"
     ]
    }
   ],
   "source": [
    "speedup = []\n",
    "for d in datasize:\n",
    "    df = pd.DataFrame(columns=['id', 'category'])\n",
    "    df['id'] = np.random.randint(3, size=d)\n",
    "    df['category'] = np.random.choice(['a','b','c'], d)\n",
    "    r1 = df.pivot_table(index='id', columns='category', aggfunc=len, fill_value=0)\n",
    "    r2 = pd.crosstab(df['id'], df['category'])\n",
    "    assert r1.equals(r2)\n",
    "    t1 = %timeit -o df.pivot_table(index='id', columns='category', aggfunc=len, fill_value=0)\n",
    "    t2 = %timeit -o pd.crosstab(df['id'], df['category'])\n",
    "    time1 = np.array(t1.timings).mean()\n",
    "    time2 = np.array(t2.timings).mean()\n",
    "    speedup.append(time2/time1)\n",
    "speedup_all['pd.DataFrame.pivot_table vs pd.crosstab'] = speedup"
   ]
  },
  {
   "cell_type": "markdown",
   "metadata": {},
   "source": [
    "pd.Series.map vs pd.Series.str"
   ]
  },
  {
   "cell_type": "code",
   "execution_count": 48,
   "metadata": {},
   "outputs": [
    {
     "name": "stdout",
     "output_type": "stream",
     "text": [
      "93.2 µs ± 2.82 µs per loop (mean ± std. dev. of 7 runs, 10000 loops each)\n",
      "104 µs ± 1.68 µs per loop (mean ± std. dev. of 7 runs, 10000 loops each)\n",
      "203 µs ± 2.06 µs per loop (mean ± std. dev. of 7 runs, 10000 loops each)\n",
      "422 µs ± 10.6 µs per loop (mean ± std. dev. of 7 runs, 1000 loops each)\n",
      "1.3 ms ± 46.3 µs per loop (mean ± std. dev. of 7 runs, 1000 loops each)\n",
      "3.39 ms ± 156 µs per loop (mean ± std. dev. of 7 runs, 100 loops each)\n",
      "11.6 ms ± 159 µs per loop (mean ± std. dev. of 7 runs, 100 loops each)\n",
      "31.8 ms ± 666 µs per loop (mean ± std. dev. of 7 runs, 10 loops each)\n",
      "125 ms ± 1.71 ms per loop (mean ± std. dev. of 7 runs, 10 loops each)\n",
      "339 ms ± 9.64 ms per loop (mean ± std. dev. of 7 runs, 1 loop each)\n"
     ]
    }
   ],
   "source": [
    "speedup = []\n",
    "for d in datasize:\n",
    "    data = list(map(str, np.random.randint(d, size=d)))\n",
    "    df = pd.DataFrame({'a': data})\n",
    "    r1 = df['a'].map(lambda x: x[0])\n",
    "    r2 = df[\"a\"].str[0]\n",
    "    assert r1.equals(r2)\n",
    "    t1 = %timeit -o df['a'].map(lambda x: x[0])\n",
    "    t2 = %timeit -o df[\"a\"].str[0]\n",
    "    time1 = np.array(t1.timings).mean()\n",
    "    time2 = np.array(t2.timings).mean()\n",
    "    speedup.append(time2/time1)\n",
    "speedup_all['pd.Series.map vs pd.Series.str'] = speedup"
   ]
  },
  {
   "cell_type": "markdown",
   "metadata": {},
   "source": [
    "np.where vs pd.Series.map"
   ]
  },
  {
   "cell_type": "code",
   "execution_count": 50,
   "metadata": {},
   "outputs": [
    {
     "name": "stdout",
     "output_type": "stream",
     "text": [
      "84.2 µs ± 758 ns per loop (mean ± std. dev. of 7 runs, 10000 loops each)\n",
      "130 µs ± 3.16 µs per loop (mean ± std. dev. of 7 runs, 10000 loops each)\n",
      "84.1 µs ± 1.11 µs per loop (mean ± std. dev. of 7 runs, 10000 loops each)\n",
      "366 µs ± 8 µs per loop (mean ± std. dev. of 7 runs, 1000 loops each)\n",
      "95.5 µs ± 1.61 µs per loop (mean ± std. dev. of 7 runs, 10000 loops each)\n",
      "2.72 ms ± 55.9 µs per loop (mean ± std. dev. of 7 runs, 100 loops each)\n",
      "183 µs ± 3.15 µs per loop (mean ± std. dev. of 7 runs, 10000 loops each)\n",
      "26.6 ms ± 473 µs per loop (mean ± std. dev. of 7 runs, 10 loops each)\n",
      "2.07 ms ± 18.9 µs per loop (mean ± std. dev. of 7 runs, 100 loops each)\n",
      "276 ms ± 10.8 ms per loop (mean ± std. dev. of 7 runs, 1 loop each)\n"
     ]
    }
   ],
   "source": [
    "speedup = []\n",
    "for d in datasize:\n",
    "    df = pd.DataFrame(np.random.randn(d, 1), columns=['a'])\n",
    "    r1 = np.where(df.a > 0, 1, -1)\n",
    "    r2 = df.a.map(lambda x: 1 if x > 0 else -1)   \n",
    "    assert np.allclose(r1, r2) == True\n",
    "    t1 = %timeit -o np.where(df.a > 0, 1, -1)\n",
    "    t2 = %timeit -o df.a.map(lambda x: 1 if x > 0 else -1)   \n",
    "    time1 = np.array(t1.timings).mean()\n",
    "    time2 = np.array(t2.timings).mean()\n",
    "    speedup.append(time2/time1)\n",
    "speedup_all['np.where vs pd.Series.map'] = speedup"
   ]
  },
  {
   "cell_type": "markdown",
   "metadata": {},
   "source": [
    "pd.DataFrame.groupby,pd.core.groupby.DataFrameGroupBy.filter vs\n",
    "pd.DataFrame.groupby,pd.Series.transform"
   ]
  },
  {
   "cell_type": "code",
   "execution_count": 51,
   "metadata": {},
   "outputs": [
    {
     "name": "stdout",
     "output_type": "stream",
     "text": [
      "6.77 ms ± 124 µs per loop (mean ± std. dev. of 7 runs, 100 loops each)\n",
      "813 µs ± 5.72 µs per loop (mean ± std. dev. of 7 runs, 1000 loops each)\n",
      "41.6 ms ± 340 µs per loop (mean ± std. dev. of 7 runs, 10 loops each)\n",
      "893 µs ± 18.1 µs per loop (mean ± std. dev. of 7 runs, 1000 loops each)\n",
      "65.1 ms ± 594 µs per loop (mean ± std. dev. of 7 runs, 10 loops each)\n",
      "1.08 ms ± 5.31 µs per loop (mean ± std. dev. of 7 runs, 1000 loops each)\n",
      "68.3 ms ± 475 µs per loop (mean ± std. dev. of 7 runs, 10 loops each)\n",
      "2.78 ms ± 78.6 µs per loop (mean ± std. dev. of 7 runs, 100 loops each)\n",
      "210 ms ± 10 ms per loop (mean ± std. dev. of 7 runs, 1 loop each)\n",
      "50.1 ms ± 1.66 ms per loop (mean ± std. dev. of 7 runs, 10 loops each)\n"
     ]
    }
   ],
   "source": [
    "speedup = []\n",
    "for d in datasize:\n",
    "    df = pd.DataFrame(dict(A = np.random.randint(0,1000,size=d),B=np.random.randn(d)))\n",
    "    r1 = df.groupby('A').filter(lambda x: len(x) > 1000)\n",
    "    r2 = df[df.groupby(['A'])['A'].transform('size') > 1000]\n",
    "    assert r1.equals(r2)\n",
    "    t1 = %timeit -o df.groupby('A').filter(lambda x: len(x) > 1000)\n",
    "    t2 = %timeit -o df[df.groupby(['A'])['A'].transform('size') > 1000]\n",
    "    time1 = np.array(t1.timings).mean()\n",
    "    time2 = np.array(t2.timings).mean()\n",
    "    speedup.append(time2/time1)\n",
    "speedup_all['pd.DataFrame.groupby,pd.core.groupby.DataFrameGroupBy.filter vs pd.DataFrame.groupby,pd.Series.transform'] = speedup"
   ]
  },
  {
   "cell_type": "markdown",
   "metadata": {},
   "source": [
    "np.einsum,np.sqrt vs np.ndarray.sum,np.sqrt"
   ]
  },
  {
   "cell_type": "code",
   "execution_count": 52,
   "metadata": {},
   "outputs": [
    {
     "name": "stdout",
     "output_type": "stream",
     "text": [
      "2.38 µs ± 26.3 ns per loop (mean ± std. dev. of 7 runs, 100000 loops each)\n",
      "3.76 µs ± 183 ns per loop (mean ± std. dev. of 7 runs, 100000 loops each)\n",
      "4.25 µs ± 94.1 ns per loop (mean ± std. dev. of 7 runs, 100000 loops each)\n",
      "6.89 µs ± 120 ns per loop (mean ± std. dev. of 7 runs, 100000 loops each)\n",
      "20.4 µs ± 452 ns per loop (mean ± std. dev. of 7 runs, 10000 loops each)\n",
      "35.6 µs ± 440 ns per loop (mean ± std. dev. of 7 runs, 10000 loops each)\n",
      "471 µs ± 12.6 µs per loop (mean ± std. dev. of 7 runs, 1000 loops each)\n",
      "607 µs ± 12.7 µs per loop (mean ± std. dev. of 7 runs, 1000 loops each)\n",
      "5.59 ms ± 224 µs per loop (mean ± std. dev. of 7 runs, 100 loops each)\n",
      "7.76 ms ± 124 µs per loop (mean ± std. dev. of 7 runs, 100 loops each)\n"
     ]
    }
   ],
   "source": [
    "speedup = []\n",
    "for d in datasize:\n",
    "    a = np.arange(d).reshape((-1,5))\n",
    "    r1 = np.sqrt(np.einsum('ij,ij->i',a,a))\n",
    "    r2 = np.sqrt((a*a).sum(axis=1))\n",
    "    np.testing.assert_equal(r1,r2)\n",
    "    t1 = %timeit -o np.sqrt(np.einsum('ij,ij->i',a,a))\n",
    "    t2 = %timeit -o np.sqrt((a*a).sum(axis=1))\n",
    "    time1 = np.array(t1.timings).mean()\n",
    "    time2 = np.array(t2.timings).mean()\n",
    "    speedup.append(time2/time1)\n",
    "speedup_all['np.einsum,np.sqrt vs np.ndarray.sum,np.sqrt'] = speedup"
   ]
  },
  {
   "cell_type": "markdown",
   "metadata": {},
   "source": [
    "pd.read_csv vs pd.read_hdf"
   ]
  },
  {
   "cell_type": "code",
   "execution_count": 53,
   "metadata": {},
   "outputs": [
    {
     "name": "stdout",
     "output_type": "stream",
     "text": [
      "974 µs ± 3.13 µs per loop (mean ± std. dev. of 7 runs, 1000 loops each)\n",
      "2.51 ms ± 61.8 µs per loop (mean ± std. dev. of 7 runs, 100 loops each)\n",
      "1.2 ms ± 12.4 µs per loop (mean ± std. dev. of 7 runs, 1000 loops each)\n",
      "2.55 ms ± 26.5 µs per loop (mean ± std. dev. of 7 runs, 100 loops each)\n",
      "3.78 ms ± 91.7 µs per loop (mean ± std. dev. of 7 runs, 100 loops each)\n",
      "2.59 ms ± 25.6 µs per loop (mean ± std. dev. of 7 runs, 100 loops each)\n",
      "33.7 ms ± 2.32 ms per loop (mean ± std. dev. of 7 runs, 10 loops each)\n",
      "2.59 ms ± 38.5 µs per loop (mean ± std. dev. of 7 runs, 100 loops each)\n",
      "402 ms ± 29.9 ms per loop (mean ± std. dev. of 7 runs, 1 loop each)\n",
      "4.77 ms ± 174 µs per loop (mean ± std. dev. of 7 runs, 100 loops each)\n"
     ]
    }
   ],
   "source": [
    "speedup = []\n",
    "for d in datasize:\n",
    "    df = pd.DataFrame(np.arange(d).reshape((-1,5)))\n",
    "    df.to_hdf('temp.h5', key='df', mode='w')\n",
    "    df.to_csv('temp.csv', index=False)\n",
    "    r1 = pd.read_csv('temp.csv')\n",
    "    r2 = pd.read_hdf('temp.h5', 'df')\n",
    "    t1 = %timeit -o pd.read_csv('temp.csv')\n",
    "    t2 = %timeit -o pd.read_hdf('temp.h5', 'df')   \n",
    "    time1 = np.array(t1.timings).mean()\n",
    "    time2 = np.array(t2.timings).mean()\n",
    "    speedup.append(time2/time1)\n",
    "speedup_all['pd.read_csv vs pd.read_hdf'] = speedup"
   ]
  },
  {
   "cell_type": "markdown",
   "metadata": {},
   "source": [
    "np.column_stack vs np.transpose"
   ]
  },
  {
   "cell_type": "code",
   "execution_count": 54,
   "metadata": {},
   "outputs": [
    {
     "name": "stdout",
     "output_type": "stream",
     "text": [
      "3.06 µs ± 79.7 ns per loop (mean ± std. dev. of 7 runs, 100000 loops each)\n",
      "2.46 µs ± 159 ns per loop (mean ± std. dev. of 7 runs, 100000 loops each)\n",
      "3.36 µs ± 42.6 ns per loop (mean ± std. dev. of 7 runs, 100000 loops each)\n",
      "3.05 µs ± 28.1 ns per loop (mean ± std. dev. of 7 runs, 100000 loops each)\n",
      "6.19 µs ± 43.2 ns per loop (mean ± std. dev. of 7 runs, 100000 loops each)\n",
      "10.7 µs ± 197 ns per loop (mean ± std. dev. of 7 runs, 100000 loops each)\n",
      "34.8 µs ± 754 ns per loop (mean ± std. dev. of 7 runs, 10000 loops each)\n",
      "81.5 µs ± 458 ns per loop (mean ± std. dev. of 7 runs, 10000 loops each)\n",
      "1.59 ms ± 21.7 µs per loop (mean ± std. dev. of 7 runs, 1000 loops each)\n",
      "2.95 ms ± 27.3 µs per loop (mean ± std. dev. of 7 runs, 100 loops each)\n"
     ]
    }
   ],
   "source": [
    "speedup = []\n",
    "for d in datasize:\n",
    "    a = np.random.randint(d, size=d)\n",
    "    r1 = np.transpose([a,a])\n",
    "    r2 = np.column_stack((a,a))\n",
    "    assert np.allclose(r1,r2)\n",
    "    t1 = %timeit -o np.transpose([a,a])\n",
    "    t2 = %timeit -o np.column_stack((a,a))\n",
    "    time1 = np.array(t1.timings).mean()\n",
    "    time2 = np.array(t2.timings).mean()\n",
    "    speedup.append(time2/time1)\n",
    "speedup_all['np.column_stack vs np.transpose'] = speedup"
   ]
  },
  {
   "cell_type": "markdown",
   "metadata": {},
   "source": [
    "np.sort,pd.DataFrame,pd.DataFrame.duplicated vs pd.DataFrame.apply,pd.DataFrame.duplicated"
   ]
  },
  {
   "cell_type": "code",
   "execution_count": 55,
   "metadata": {},
   "outputs": [
    {
     "name": "stdout",
     "output_type": "stream",
     "text": [
      "601 µs ± 17.3 µs per loop (mean ± std. dev. of 7 runs, 1000 loops each)\n",
      "1.83 ms ± 37.2 µs per loop (mean ± std. dev. of 7 runs, 1000 loops each)\n",
      "737 µs ± 12.1 µs per loop (mean ± std. dev. of 7 runs, 1000 loops each)\n",
      "10.5 ms ± 346 µs per loop (mean ± std. dev. of 7 runs, 100 loops each)\n",
      "2.06 ms ± 149 µs per loop (mean ± std. dev. of 7 runs, 100 loops each)\n",
      "94.6 ms ± 785 µs per loop (mean ± std. dev. of 7 runs, 10 loops each)\n",
      "14.7 ms ± 117 µs per loop (mean ± std. dev. of 7 runs, 100 loops each)\n",
      "963 ms ± 10.3 ms per loop (mean ± std. dev. of 7 runs, 1 loop each)\n",
      "155 ms ± 1.61 ms per loop (mean ± std. dev. of 7 runs, 10 loops each)\n",
      "9.61 s ± 50.9 ms per loop (mean ± std. dev. of 7 runs, 1 loop each)\n"
     ]
    }
   ],
   "source": [
    "speedup = []\n",
    "for d in datasize:\n",
    "    df = pd.DataFrame({'A': np.random.randint(10,size=d).astype(str),\n",
    "                       'B': np.random.randint(10,size=d).astype(str)})\n",
    "    r1 = df[~pd.DataFrame(np.sort(df.values, axis=1), index=df.index, columns=df.columns).duplicated()]\n",
    "    r2 = df[~df[['A', 'B']].apply(frozenset, axis=1).duplicated()]\n",
    "    assert r1.equals(r2)\n",
    "    t1 = %timeit -o df[~pd.DataFrame(np.sort(df.values, axis=1), index=df.index, columns=df.columns).duplicated()]\n",
    "    t2 = %timeit -o df[~df[['A', 'B']].apply(frozenset, axis=1).duplicated()]\n",
    "    time1 = np.array(t1.timings).mean()\n",
    "    time2 = np.array(t2.timings).mean()\n",
    "    speedup.append(time2/time1)\n",
    "speedup_all['np.sort,pd.DataFrame,pd.DataFrame.duplicated vs pd.DataFrame.apply,pd.DataFrame.duplicated'] = speedup"
   ]
  },
  {
   "cell_type": "markdown",
   "metadata": {},
   "source": [
    "np.empty vs np.zeros"
   ]
  },
  {
   "cell_type": "code",
   "execution_count": 56,
   "metadata": {},
   "outputs": [
    {
     "name": "stdout",
     "output_type": "stream",
     "text": [
      "900 ns ± 13 ns per loop (mean ± std. dev. of 7 runs, 1000000 loops each)\n",
      "535 ns ± 5.35 ns per loop (mean ± std. dev. of 7 runs, 1000000 loops each)\n",
      "1.26 µs ± 17.3 ns per loop (mean ± std. dev. of 7 runs, 1000000 loops each)\n",
      "860 ns ± 11.1 ns per loop (mean ± std. dev. of 7 runs, 1000000 loops each)\n",
      "3.45 µs ± 108 ns per loop (mean ± std. dev. of 7 runs, 100000 loops each)\n",
      "3.08 µs ± 23.8 ns per loop (mean ± std. dev. of 7 runs, 100000 loops each)\n",
      "22.8 µs ± 271 ns per loop (mean ± std. dev. of 7 runs, 10000 loops each)\n",
      "25 µs ± 372 ns per loop (mean ± std. dev. of 7 runs, 10000 loops each)\n",
      "2.59 ms ± 18.8 µs per loop (mean ± std. dev. of 7 runs, 100 loops each)\n",
      "94.6 µs ± 1.37 µs per loop (mean ± std. dev. of 7 runs, 10000 loops each)\n"
     ]
    }
   ],
   "source": [
    "speedup = []\n",
    "for d in datasize:\n",
    "    r1 = np.empty(d); r1[:] = 0\n",
    "    r2 = np.zeros(d)\n",
    "    assert np.allclose(r1,r2) == True\n",
    "    t1 = %timeit -o r1 = np.empty(d); r1[:] = 0\n",
    "    t2 = %timeit -o np.zeros(d)\n",
    "    time1 = np.array(t1.timings).mean()\n",
    "    time2 = np.array(t2.timings).mean()\n",
    "    speedup.append(time2/time1)\n",
    "speedup_all['np.empty vs np.zeros'] = speedup"
   ]
  },
  {
   "cell_type": "markdown",
   "metadata": {},
   "source": [
    "pd.Series vs pd.Series.apply"
   ]
  },
  {
   "cell_type": "code",
   "execution_count": 57,
   "metadata": {},
   "outputs": [
    {
     "name": "stdout",
     "output_type": "stream",
     "text": [
      "64.7 µs ± 270 ns per loop (mean ± std. dev. of 7 runs, 10000 loops each)\n",
      "119 µs ± 854 ns per loop (mean ± std. dev. of 7 runs, 10000 loops each)\n",
      "137 µs ± 1.21 µs per loop (mean ± std. dev. of 7 runs, 10000 loops each)\n",
      "251 µs ± 5.73 µs per loop (mean ± std. dev. of 7 runs, 1000 loops each)\n",
      "838 µs ± 16.7 µs per loop (mean ± std. dev. of 7 runs, 1000 loops each)\n",
      "1.48 ms ± 17.5 µs per loop (mean ± std. dev. of 7 runs, 1000 loops each)\n",
      "8.63 ms ± 119 µs per loop (mean ± std. dev. of 7 runs, 100 loops each)\n",
      "13.7 ms ± 213 µs per loop (mean ± std. dev. of 7 runs, 100 loops each)\n",
      "129 ms ± 487 µs per loop (mean ± std. dev. of 7 runs, 10 loops each)\n",
      "157 ms ± 2.33 ms per loop (mean ± std. dev. of 7 runs, 10 loops each)\n"
     ]
    }
   ],
   "source": [
    "speedup = []\n",
    "for d in datasize:\n",
    "    s = pd.Series(np.random.randint(1,100,d))\n",
    "    r1 = pd.Series([[a] for a in s])\n",
    "    r2 = s.apply(lambda x: [x])\n",
    "    assert r1.equals(r2)\n",
    "    t1 = %timeit -o pd.Series([[a] for a in s])\n",
    "    t2 = %timeit -o s.apply(lambda x: [x])\n",
    "    time1 = np.array(t1.timings).mean()\n",
    "    time2 = np.array(t2.timings).mean()\n",
    "    speedup.append(time2/time1)\n",
    "speedup_all['pd.Series vs pd.Series.apply'] = speedup"
   ]
  },
  {
   "cell_type": "markdown",
   "metadata": {},
   "source": [
    "np.column_stack vs np.vstack"
   ]
  },
  {
   "cell_type": "code",
   "execution_count": 58,
   "metadata": {},
   "outputs": [
    {
     "name": "stdout",
     "output_type": "stream",
     "text": [
      "2.85 µs ± 81.5 ns per loop (mean ± std. dev. of 7 runs, 100000 loops each)\n",
      "2.36 µs ± 98.6 ns per loop (mean ± std. dev. of 7 runs, 100000 loops each)\n",
      "3.1 µs ± 58.4 ns per loop (mean ± std. dev. of 7 runs, 100000 loops each)\n",
      "The slowest run took 5001.88 times longer than the fastest. This could mean that an intermediate result is being cached.\n",
      "2.16 ms ± 5.29 ms per loop (mean ± std. dev. of 7 runs, 100000 loops each)\n",
      "6.18 µs ± 301 ns per loop (mean ± std. dev. of 7 runs, 100000 loops each)\n",
      "11.2 µs ± 566 ns per loop (mean ± std. dev. of 7 runs, 100000 loops each)\n",
      "34.1 µs ± 648 ns per loop (mean ± std. dev. of 7 runs, 10000 loops each)\n",
      "80.7 µs ± 323 ns per loop (mean ± std. dev. of 7 runs, 10000 loops each)\n",
      "1.52 ms ± 12 µs per loop (mean ± std. dev. of 7 runs, 1000 loops each)\n",
      "2.99 ms ± 30.9 µs per loop (mean ± std. dev. of 7 runs, 100 loops each)\n"
     ]
    }
   ],
   "source": [
    "speedup = []\n",
    "for d in datasize:\n",
    "    a = np.random.randint(d, size=d)\n",
    "    r1 = np.vstack((a, a)).T\n",
    "    r2 = np.column_stack((a,a))\n",
    "    assert np.allclose(r1,r2) == True\n",
    "    t1 = %timeit -o np.vstack((a, a)).T\n",
    "    t2 = %timeit -o np.column_stack((a,a))\n",
    "    time1 = np.array(t1.timings).mean()\n",
    "    time2 = np.array(t2.timings).mean()\n",
    "    speedup.append(time2/time1)\n",
    "speedup_all['np.column_stack vs np.vstack'] = speedup"
   ]
  },
  {
   "cell_type": "markdown",
   "metadata": {},
   "source": [
    "np.empty,np.ndarray.fill vs np.ones"
   ]
  },
  {
   "cell_type": "code",
   "execution_count": 59,
   "metadata": {},
   "outputs": [
    {
     "name": "stdout",
     "output_type": "stream",
     "text": [
      "895 ns ± 10.5 ns per loop (mean ± std. dev. of 7 runs, 1000000 loops each)\n",
      "1.14 µs ± 5.3 ns per loop (mean ± std. dev. of 7 runs, 1000000 loops each)\n",
      "1.21 µs ± 9.73 ns per loop (mean ± std. dev. of 7 runs, 1000000 loops each)\n",
      "1.5 µs ± 13.5 ns per loop (mean ± std. dev. of 7 runs, 1000000 loops each)\n",
      "3.4 µs ± 19.2 ns per loop (mean ± std. dev. of 7 runs, 100000 loops each)\n",
      "3.8 µs ± 92.3 ns per loop (mean ± std. dev. of 7 runs, 100000 loops each)\n",
      "23.2 µs ± 445 ns per loop (mean ± std. dev. of 7 runs, 10000 loops each)\n",
      "23.1 µs ± 289 ns per loop (mean ± std. dev. of 7 runs, 10000 loops each)\n",
      "250 µs ± 3.14 µs per loop (mean ± std. dev. of 7 runs, 1000 loops each)\n",
      "2.63 ms ± 72.2 µs per loop (mean ± std. dev. of 7 runs, 100 loops each)\n"
     ]
    }
   ],
   "source": [
    "speedup = []\n",
    "for d in datasize:\n",
    "    r1 = np.empty(d); r1[:] = 1\n",
    "    r2 = np.ones(d)\n",
    "    assert np.allclose(r1,r2) == True\n",
    "    t1 = %timeit -o np.empty(d); r1[:] = 1\n",
    "    t2 = %timeit -o np.ones(d)\n",
    "    time1 = np.array(t1.timings).mean()\n",
    "    time2 = np.array(t2.timings).mean()\n",
    "    speedup.append(time2/time1)\n",
    "speedup_all['np.empty,np.ndarray.fill vs np.ones'] = speedup"
   ]
  },
  {
   "cell_type": "markdown",
   "metadata": {},
   "source": [
    "pd.Series.astype vs pd.Series.map"
   ]
  },
  {
   "cell_type": "code",
   "execution_count": 60,
   "metadata": {},
   "outputs": [
    {
     "name": "stdout",
     "output_type": "stream",
     "text": [
      "103 µs ± 574 ns per loop (mean ± std. dev. of 7 runs, 10000 loops each)\n",
      "177 µs ± 1.09 µs per loop (mean ± std. dev. of 7 runs, 10000 loops each)\n",
      "703 µs ± 6.04 µs per loop (mean ± std. dev. of 7 runs, 1000 loops each)\n",
      "866 µs ± 6.44 µs per loop (mean ± std. dev. of 7 runs, 1000 loops each)\n",
      "6.65 ms ± 42.5 µs per loop (mean ± std. dev. of 7 runs, 100 loops each)\n",
      "7.72 ms ± 46.8 µs per loop (mean ± std. dev. of 7 runs, 100 loops each)\n",
      "67.5 ms ± 375 µs per loop (mean ± std. dev. of 7 runs, 10 loops each)\n",
      "76.4 ms ± 265 µs per loop (mean ± std. dev. of 7 runs, 10 loops each)\n",
      "684 ms ± 8.89 ms per loop (mean ± std. dev. of 7 runs, 1 loop each)\n",
      "788 ms ± 2.61 ms per loop (mean ± std. dev. of 7 runs, 1 loop each)\n"
     ]
    }
   ],
   "source": [
    "speedup = []\n",
    "for d in datasize:\n",
    "    df = pd.DataFrame(np.random.randn(d, 1), columns=['a'])\n",
    "    r1 = df[\"a\"].astype(str)\n",
    "    r2 = df[\"a\"].map(str)\n",
    "    t1 = %timeit -o df[\"a\"].astype(str)\n",
    "    t2 = %timeit -o df[\"a\"].map(str)\n",
    "    time1 = np.array(t1.timings).mean()\n",
    "    time2 = np.array(t2.timings).mean()\n",
    "    speedup.append(time2/time1)\n",
    "speedup_all['pd.Series.astype vs pd.Series.map'] = speedup"
   ]
  },
  {
   "cell_type": "markdown",
   "metadata": {},
   "source": [
    "np.array vs np.hstack"
   ]
  },
  {
   "cell_type": "code",
   "execution_count": 61,
   "metadata": {},
   "outputs": [
    {
     "name": "stdout",
     "output_type": "stream",
     "text": [
      "997 ns ± 17 ns per loop (mean ± std. dev. of 7 runs, 1000000 loops each)\n",
      "193 µs ± 1.9 µs per loop (mean ± std. dev. of 7 runs, 10000 loops each)\n",
      "2.28 µs ± 24.6 ns per loop (mean ± std. dev. of 7 runs, 100000 loops each)\n",
      "1.91 ms ± 32.5 µs per loop (mean ± std. dev. of 7 runs, 1000 loops each)\n",
      "7.86 µs ± 44.9 ns per loop (mean ± std. dev. of 7 runs, 100000 loops each)\n",
      "18.9 ms ± 210 µs per loop (mean ± std. dev. of 7 runs, 100 loops each)\n",
      "75 µs ± 945 ns per loop (mean ± std. dev. of 7 runs, 10000 loops each)\n",
      "204 ms ± 11.2 ms per loop (mean ± std. dev. of 7 runs, 1 loop each)\n",
      "2.43 ms ± 109 µs per loop (mean ± std. dev. of 7 runs, 100 loops each)\n",
      "2.06 s ± 51.9 ms per loop (mean ± std. dev. of 7 runs, 1 loop each)\n"
     ]
    }
   ],
   "source": [
    "speedup = []\n",
    "for d in datasize:\n",
    "    a = np.random.randint(d, size=d)\n",
    "    r1 = np.array(a*2)\n",
    "    r2 = np.hstack(a*2)\n",
    "    assert np.allclose(r1,r2) == True\n",
    "    t1 = %timeit -o np.array(a*2)\n",
    "    t2 = %timeit -o np.hstack(a*2)\n",
    "    time1 = np.array(t1.timings).mean()\n",
    "    time2 = np.array(t2.timings).mean()\n",
    "    speedup.append(time2/time1)\n",
    "speedup_all['np.array vs np.hstack'] = speedup"
   ]
  },
  {
   "cell_type": "markdown",
   "metadata": {},
   "source": [
    "np.repeat vs np.tile"
   ]
  },
  {
   "cell_type": "code",
   "execution_count": 62,
   "metadata": {},
   "outputs": [
    {
     "name": "stdout",
     "output_type": "stream",
     "text": [
      "951 ns ± 18.6 ns per loop (mean ± std. dev. of 7 runs, 1000000 loops each)\n",
      "2.99 µs ± 47.3 ns per loop (mean ± std. dev. of 7 runs, 100000 loops each)\n",
      "1.18 µs ± 11.8 ns per loop (mean ± std. dev. of 7 runs, 1000000 loops each)\n",
      "3.41 µs ± 36.9 ns per loop (mean ± std. dev. of 7 runs, 100000 loops each)\n",
      "4.13 µs ± 28.5 ns per loop (mean ± std. dev. of 7 runs, 100000 loops each)\n",
      "6.75 µs ± 192 ns per loop (mean ± std. dev. of 7 runs, 100000 loops each)\n",
      "32.9 µs ± 656 ns per loop (mean ± std. dev. of 7 runs, 10000 loops each)\n",
      "35.6 µs ± 842 ns per loop (mean ± std. dev. of 7 runs, 10000 loops each)\n",
      "1.57 ms ± 37.5 µs per loop (mean ± std. dev. of 7 runs, 1000 loops each)\n",
      "1.67 ms ± 34.4 µs per loop (mean ± std. dev. of 7 runs, 1000 loops each)\n"
     ]
    }
   ],
   "source": [
    "speedup = []\n",
    "for d in datasize:\n",
    "    arr = np.arange(d)\n",
    "    r1 = np.repeat(arr[None,:], 2, axis=0)\n",
    "    r2 = np.tile(arr, (2, 1, 1))\n",
    "    assert np.allclose(r1,r2) == True\n",
    "    t1 = %timeit -o np.repeat(arr[None,:], 2, axis=0)\n",
    "    t2 = %timeit -o  np.tile(arr, (2, 1, 1))\n",
    "    time1 = np.array(t1.timings).mean()\n",
    "    time2 = np.array(t2.timings).mean()\n",
    "    speedup.append(time2/time1)\n",
    "speedup_all['np.repeat vs np.tile'] = speedup"
   ]
  },
  {
   "cell_type": "code",
   "execution_count": 63,
   "metadata": {},
   "outputs": [],
   "source": [
    "import pickle\n",
    "with open('speedup-dell.pkl', 'wb') as f:\n",
    "    pickle.dump(speedup_all, f)"
   ]
  },
  {
   "cell_type": "code",
   "execution_count": 3,
   "metadata": {},
   "outputs": [],
   "source": [
    "import pickle\n",
    "with open('speedup-dell.pkl', 'rb') as f:\n",
    "    speedup_res = pickle.load(f)"
   ]
  },
  {
   "cell_type": "code",
   "execution_count": 65,
   "metadata": {},
   "outputs": [
    {
     "data": {
      "text/plain": [
       "True"
      ]
     },
     "execution_count": 65,
     "metadata": {},
     "output_type": "execute_result"
    }
   ],
   "source": [
    "speedup_all == speedup_res"
   ]
  },
  {
   "cell_type": "markdown",
   "metadata": {},
   "source": [
    "Updated API pairs"
   ]
  },
  {
   "cell_type": "markdown",
   "metadata": {},
   "source": [
    "np.ndarray.sum vs np.sum"
   ]
  },
  {
   "cell_type": "code",
   "execution_count": 19,
   "metadata": {},
   "outputs": [
    {
     "name": "stdout",
     "output_type": "stream",
     "text": [
      "1.38 µs ± 4.48 ns per loop (mean ± std. dev. of 7 runs, 1000000 loops each)\n",
      "2.1 µs ± 31.4 ns per loop (mean ± std. dev. of 7 runs, 1000000 loops each)\n",
      "1.96 µs ± 58.4 ns per loop (mean ± std. dev. of 7 runs, 1000000 loops each)\n",
      "2.71 µs ± 87.5 ns per loop (mean ± std. dev. of 7 runs, 100000 loops each)\n",
      "5.03 µs ± 201 ns per loop (mean ± std. dev. of 7 runs, 100000 loops each)\n",
      "5.69 µs ± 144 ns per loop (mean ± std. dev. of 7 runs, 100000 loops each)\n",
      "34.4 µs ± 1.01 µs per loop (mean ± std. dev. of 7 runs, 10000 loops each)\n",
      "36.3 µs ± 1.82 µs per loop (mean ± std. dev. of 7 runs, 10000 loops each)\n",
      "380 µs ± 43.4 µs per loop (mean ± std. dev. of 7 runs, 1000 loops each)\n",
      "326 µs ± 9.44 µs per loop (mean ± std. dev. of 7 runs, 1000 loops each)\n"
     ]
    }
   ],
   "source": [
    "speedup = []\n",
    "for d in datasize:\n",
    "    arr = np.arange(d)\n",
    "    r1 = arr.sum()\n",
    "    r2 = np.sum(arr)\n",
    "    assert np.allclose(r1,r2) == True\n",
    "    t1 = %timeit -o  arr.sum()\n",
    "    t2 = %timeit -o  np.sum(arr)\n",
    "    time1 = np.array(t1.timings).mean()\n",
    "    time2 = np.array(t2.timings).mean()\n",
    "    speedup.append(time2/time1)\n",
    "speedup_all['np.ndarray.sum vs np.sum'] = speedup"
   ]
  },
  {
   "cell_type": "markdown",
   "metadata": {},
   "source": [
    "pd.Series.map vs pd.DataFrame.replace"
   ]
  },
  {
   "cell_type": "code",
   "execution_count": 18,
   "metadata": {},
   "outputs": [
    {
     "name": "stdout",
     "output_type": "stream",
     "text": [
      "420 µs ± 12.5 µs per loop (mean ± std. dev. of 7 runs, 1000 loops each)\n",
      "745 µs ± 13.1 µs per loop (mean ± std. dev. of 7 runs, 1000 loops each)\n",
      "532 µs ± 12.8 µs per loop (mean ± std. dev. of 7 runs, 1000 loops each)\n",
      "2.84 ms ± 54.4 µs per loop (mean ± std. dev. of 7 runs, 100 loops each)\n",
      "1.52 ms ± 73.5 µs per loop (mean ± std. dev. of 7 runs, 1000 loops each)\n",
      "27.1 ms ± 3.44 ms per loop (mean ± std. dev. of 7 runs, 10 loops each)\n",
      "12.6 ms ± 239 µs per loop (mean ± std. dev. of 7 runs, 100 loops each)\n",
      "246 ms ± 5.68 ms per loop (mean ± std. dev. of 7 runs, 1 loop each)\n",
      "121 ms ± 5.2 ms per loop (mean ± std. dev. of 7 runs, 10 loops each)\n",
      "2.58 s ± 60.2 ms per loop (mean ± std. dev. of 7 runs, 1 loop each)\n"
     ]
    }
   ],
   "source": [
    "speedup = []\n",
    "for d in datasize:\n",
    "    df = pd.DataFrame(dict(gender=[f\"mostly_{g}\" for g in ['male', 'female'] * d]))\n",
    "    r1 = df.gender.map({'mostly_male': 'male', 'mostly_female': 'female'})\n",
    "    r2 = df.replace({'gender': {'mostly_': ''}}, regex=True)\n",
    "    assert r1.equals(r2['gender']) == True\n",
    "    t1 = %timeit -o df.gender.map({'mostly_male': 'male', 'mostly_female': 'female'})\n",
    "    t2 = %timeit -o df.replace({'gender': {'mostly_': ''}}, regex=True)\n",
    "    time1 = np.array(t1.timings).mean()\n",
    "    time2 = np.array(t2.timings).mean()\n",
    "    speedup.append(time2/time1)\n",
    "speedup_all['pd.Series.map vs pd.DataFrame.replace'] = speedup"
   ]
  },
  {
   "cell_type": "markdown",
   "metadata": {},
   "source": [
    "pd.DataFrame.apply vs pd.Series.apply"
   ]
  },
  {
   "cell_type": "code",
   "execution_count": 17,
   "metadata": {
    "scrolled": true
   },
   "outputs": [
    {
     "name": "stdout",
     "output_type": "stream",
     "text": [
      "1.08 ms ± 30 µs per loop (mean ± std. dev. of 7 runs, 1000 loops each)\n",
      "228 µs ± 20.9 µs per loop (mean ± std. dev. of 7 runs, 1000 loops each)\n",
      "1.14 ms ± 27.4 µs per loop (mean ± std. dev. of 7 runs, 1000 loops each)\n",
      "425 µs ± 19.1 µs per loop (mean ± std. dev. of 7 runs, 1000 loops each)\n",
      "1.11 ms ± 20.7 µs per loop (mean ± std. dev. of 7 runs, 1000 loops each)\n",
      "2.55 ms ± 84.4 µs per loop (mean ± std. dev. of 7 runs, 100 loops each)\n",
      "1.85 ms ± 62.8 µs per loop (mean ± std. dev. of 7 runs, 1000 loops each)\n",
      "27.2 ms ± 814 µs per loop (mean ± std. dev. of 7 runs, 10 loops each)\n",
      "6.56 ms ± 136 µs per loop (mean ± std. dev. of 7 runs, 100 loops each)\n",
      "270 ms ± 8.4 ms per loop (mean ± std. dev. of 7 runs, 1 loop each)\n"
     ]
    }
   ],
   "source": [
    "speedup = []\n",
    "for d in datasize:\n",
    "    df = pd.DataFrame(np.arange(0, d, 1,), columns=[\"a\"])\n",
    "    r1 = df.apply(lambda x: x * 2)\n",
    "    r2 = df.a.apply(lambda x: x * 2)\n",
    "    pd.testing.assert_series_equal(r1['a'], r2, check_dtype=False)\n",
    "    t1 = %timeit -o df.apply(lambda x: x * 2)\n",
    "    t2 = %timeit -o df.a.apply(lambda x: x * 2)\n",
    "    time1 = np.array(t1.timings).mean()\n",
    "    time2 = np.array(t2.timings).mean()\n",
    "    speedup.append(time2/time1)\n",
    "speedup_all['pd.DataFrame.apply vs pd.Series.apply'] = speedup"
   ]
  },
  {
   "cell_type": "markdown",
   "metadata": {},
   "source": [
    "np.where vs pd.DataFrame.where"
   ]
  },
  {
   "cell_type": "code",
   "execution_count": 16,
   "metadata": {},
   "outputs": [
    {
     "name": "stdout",
     "output_type": "stream",
     "text": [
      "15.6 µs ± 90.8 ns per loop (mean ± std. dev. of 7 runs, 100000 loops each)\n",
      "2.09 ms ± 40.4 µs per loop (mean ± std. dev. of 7 runs, 100 loops each)\n",
      "22.7 µs ± 266 ns per loop (mean ± std. dev. of 7 runs, 10000 loops each)\n",
      "2.14 ms ± 20.5 µs per loop (mean ± std. dev. of 7 runs, 100 loops each)\n",
      "68.1 µs ± 390 ns per loop (mean ± std. dev. of 7 runs, 10000 loops each)\n",
      "2.37 ms ± 40.3 µs per loop (mean ± std. dev. of 7 runs, 100 loops each)\n",
      "1.16 ms ± 18.8 µs per loop (mean ± std. dev. of 7 runs, 1000 loops each)\n",
      "7.32 ms ± 223 µs per loop (mean ± std. dev. of 7 runs, 100 loops each)\n",
      "13.8 ms ± 864 µs per loop (mean ± std. dev. of 7 runs, 100 loops each)\n",
      "69.6 ms ± 1.84 ms per loop (mean ± std. dev. of 7 runs, 10 loops each)\n"
     ]
    }
   ],
   "source": [
    "speedup = []\n",
    "for d in datasize:\n",
    "    df = pd.DataFrame(np.random.randint(100, size=(d,3)))\n",
    "    r1 = np.where(df.values <= 50, df.values, np.nan)\n",
    "    r2 = df.where(df <= 50)\n",
    "    assert pd.DataFrame(r1).equals(r2) == True\n",
    "    t1 = %timeit -o np.where(df.values <= 50, df.values, np.nan)\n",
    "    t2 = %timeit -o df.where(df <= 50)\n",
    "    time1 = np.array(t1.timings).mean()\n",
    "    time2 = np.array(t2.timings).mean()\n",
    "    speedup.append(time2/time1)\n",
    "speedup_all['np.where vs pd.DataFrame.where'] = speedup"
   ]
  },
  {
   "cell_type": "markdown",
   "metadata": {},
   "source": [
    "np.frompyfunc vs np.array"
   ]
  },
  {
   "cell_type": "code",
   "execution_count": 15,
   "metadata": {},
   "outputs": [
    {
     "name": "stdout",
     "output_type": "stream",
     "text": [
      "8.48 µs ± 195 ns per loop (mean ± std. dev. of 7 runs, 100000 loops each)\n",
      "24.2 µs ± 1.02 µs per loop (mean ± std. dev. of 7 runs, 10000 loops each)\n",
      "79.2 µs ± 1.59 µs per loop (mean ± std. dev. of 7 runs, 10000 loops each)\n",
      "238 µs ± 12.3 µs per loop (mean ± std. dev. of 7 runs, 1000 loops each)\n",
      "812 µs ± 31.6 µs per loop (mean ± std. dev. of 7 runs, 1000 loops each)\n",
      "2.29 ms ± 39.6 µs per loop (mean ± std. dev. of 7 runs, 100 loops each)\n",
      "10 ms ± 497 µs per loop (mean ± std. dev. of 7 runs, 100 loops each)\n",
      "27.9 ms ± 1.13 ms per loop (mean ± std. dev. of 7 runs, 10 loops each)\n",
      "106 ms ± 4.18 ms per loop (mean ± std. dev. of 7 runs, 10 loops each)\n",
      "306 ms ± 6.79 ms per loop (mean ± std. dev. of 7 runs, 1 loop each)\n"
     ]
    }
   ],
   "source": [
    "\n",
    "speedup = []\n",
    "for d in datasize:\n",
    "    l = np.arange(0, d, 1)\n",
    "    r1 = np.frompyfunc(oct, 1, 1)(l)\n",
    "    r2 = np.array([oct(x) for x in l])\n",
    "    assert np.array_equal(r1,r2) == True\n",
    "    t1 = %timeit -o np.frompyfunc(oct, 1, 1)(l)\n",
    "    t2 = %timeit -o np.array([oct(x) for x in l])\n",
    "    time1 = np.array(t1.timings).mean()\n",
    "    time2 = np.array(t2.timings).mean()\n",
    "    speedup.append(time2/time1)\n",
    "speedup_all['np.frompyfunc vs np.array'] = speedup"
   ]
  },
  {
   "cell_type": "markdown",
   "metadata": {},
   "source": [
    "np.frompyfunc vs np.vectorize"
   ]
  },
  {
   "cell_type": "code",
   "execution_count": 14,
   "metadata": {},
   "outputs": [
    {
     "name": "stdout",
     "output_type": "stream",
     "text": [
      "8.64 µs ± 102 ns per loop (mean ± std. dev. of 7 runs, 100000 loops each)\n",
      "15.2 µs ± 170 ns per loop (mean ± std. dev. of 7 runs, 100000 loops each)\n",
      "85 µs ± 3.37 µs per loop (mean ± std. dev. of 7 runs, 10000 loops each)\n",
      "91.7 µs ± 2.59 µs per loop (mean ± std. dev. of 7 runs, 10000 loops each)\n",
      "862 µs ± 7.23 µs per loop (mean ± std. dev. of 7 runs, 1000 loops each)\n",
      "928 µs ± 24.8 µs per loop (mean ± std. dev. of 7 runs, 1000 loops each)\n",
      "9.69 ms ± 82.5 µs per loop (mean ± std. dev. of 7 runs, 100 loops each)\n",
      "11 ms ± 346 µs per loop (mean ± std. dev. of 7 runs, 100 loops each)\n",
      "114 ms ± 5.95 ms per loop (mean ± std. dev. of 7 runs, 10 loops each)\n",
      "121 ms ± 4.06 ms per loop (mean ± std. dev. of 7 runs, 10 loops each)\n"
     ]
    }
   ],
   "source": [
    "speedup = []\n",
    "for d in datasize:\n",
    "    l = np.arange(0, d, 1)\n",
    "    r1 = np.frompyfunc(oct, 1, 1)(l)\n",
    "    r2 = np.vectorize(oct,otypes=[object])(l)\n",
    "    assert np.array_equal(r1,r2) == True\n",
    "    t1 = %timeit -o np.frompyfunc(oct, 1, 1)(l)\n",
    "    t2 = %timeit -o np.vectorize(oct,otypes=[object])(l)\n",
    "    time1 = np.array(t1.timings).mean()\n",
    "    time2 = np.array(t2.timings).mean()\n",
    "    speedup.append(time2/time1)\n",
    "speedup_all['np.frompyfunc vs np.vectorize'] = speedup"
   ]
  },
  {
   "cell_type": "markdown",
   "metadata": {},
   "source": [
    "pd.DataFrame.iat vs pd.DataFrame.loc"
   ]
  },
  {
   "cell_type": "code",
   "execution_count": 13,
   "metadata": {},
   "outputs": [
    {
     "name": "stdout",
     "output_type": "stream",
     "text": [
      "4.44 µs ± 81.4 ns per loop (mean ± std. dev. of 7 runs, 100000 loops each)\n",
      "5.08 µs ± 103 ns per loop (mean ± std. dev. of 7 runs, 100000 loops each)\n",
      "4.53 µs ± 124 ns per loop (mean ± std. dev. of 7 runs, 100000 loops each)\n",
      "5.12 µs ± 38.3 ns per loop (mean ± std. dev. of 7 runs, 100000 loops each)\n",
      "4.35 µs ± 34.2 ns per loop (mean ± std. dev. of 7 runs, 100000 loops each)\n",
      "5.08 µs ± 114 ns per loop (mean ± std. dev. of 7 runs, 100000 loops each)\n",
      "4.76 µs ± 173 ns per loop (mean ± std. dev. of 7 runs, 100000 loops each)\n",
      "5.11 µs ± 91.5 ns per loop (mean ± std. dev. of 7 runs, 100000 loops each)\n",
      "4.54 µs ± 154 ns per loop (mean ± std. dev. of 7 runs, 100000 loops each)\n",
      "14.7 µs ± 316 ns per loop (mean ± std. dev. of 7 runs, 100000 loops each)\n"
     ]
    }
   ],
   "source": [
    "speedup = []\n",
    "for d in datasize:\n",
    "    df = pd.DataFrame(np.random.randn(d, 1))\n",
    "    r = random.randint(0, d)\n",
    "    r1 = df.iat[r, 0]\n",
    "    r2 = df.loc[r, 0]\n",
    "    assert r1 == r2\n",
    "    t1 = %timeit -o df.iat[r, 0]\n",
    "    t2 = %timeit -o df.loc[r, 0]\n",
    "    time1 = np.array(t1.timings).mean()\n",
    "    time2 = np.array(t2.timings).mean()\n",
    "    speedup.append(time2/time1)\n",
    "speedup_all['pd.DataFrame.iat vs pd.DataFrame.loc'] = speedup"
   ]
  },
  {
   "cell_type": "markdown",
   "metadata": {},
   "source": [
    "pd.DataFrame.at vs pd.DataFrame.iloc"
   ]
  },
  {
   "cell_type": "code",
   "execution_count": 12,
   "metadata": {},
   "outputs": [
    {
     "name": "stdout",
     "output_type": "stream",
     "text": [
      "3.26 µs ± 61.9 ns per loop (mean ± std. dev. of 7 runs, 100000 loops each)\n",
      "6.98 µs ± 251 ns per loop (mean ± std. dev. of 7 runs, 100000 loops each)\n",
      "3.17 µs ± 125 ns per loop (mean ± std. dev. of 7 runs, 100000 loops each)\n",
      "6.62 µs ± 94.8 ns per loop (mean ± std. dev. of 7 runs, 100000 loops each)\n",
      "3.1 µs ± 23.6 ns per loop (mean ± std. dev. of 7 runs, 100000 loops each)\n",
      "6.69 µs ± 171 ns per loop (mean ± std. dev. of 7 runs, 100000 loops each)\n",
      "3.45 µs ± 50.9 ns per loop (mean ± std. dev. of 7 runs, 100000 loops each)\n",
      "6.61 µs ± 219 ns per loop (mean ± std. dev. of 7 runs, 100000 loops each)\n",
      "12.3 µs ± 195 ns per loop (mean ± std. dev. of 7 runs, 100000 loops each)\n",
      "6.72 µs ± 59.4 ns per loop (mean ± std. dev. of 7 runs, 100000 loops each)\n"
     ]
    }
   ],
   "source": [
    "speedup = []\n",
    "for d in datasize:\n",
    "    df = pd.DataFrame(np.random.randn(d, 1))\n",
    "    r = random.randint(0, d)\n",
    "    r1 = df.at[r, 0]\n",
    "    r2 = df.iloc[r, 0]\n",
    "    assert r1 == r2\n",
    "    t1 = %timeit -o df.at[r, 0]\n",
    "    t2 = %timeit -o df.iloc[r, 0]\n",
    "    time1 = np.array(t1.timings).mean()\n",
    "    time2 = np.array(t2.timings).mean()\n",
    "    speedup.append(time2/time1)\n",
    "speedup_all['pd.DataFrame.at vs pd.DataFrame.iloc'] = speedup"
   ]
  },
  {
   "cell_type": "markdown",
   "metadata": {},
   "source": [
    "pd.DataFrame.at vs pd.DataFrame.iat"
   ]
  },
  {
   "cell_type": "code",
   "execution_count": 11,
   "metadata": {},
   "outputs": [
    {
     "name": "stdout",
     "output_type": "stream",
     "text": [
      "3.25 µs ± 47.3 ns per loop (mean ± std. dev. of 7 runs, 100000 loops each)\n",
      "4.33 µs ± 14.6 ns per loop (mean ± std. dev. of 7 runs, 100000 loops each)\n",
      "3.16 µs ± 46 ns per loop (mean ± std. dev. of 7 runs, 100000 loops each)\n",
      "4.35 µs ± 61.8 ns per loop (mean ± std. dev. of 7 runs, 100000 loops each)\n",
      "3.21 µs ± 79.6 ns per loop (mean ± std. dev. of 7 runs, 100000 loops each)\n",
      "4.61 µs ± 75.5 ns per loop (mean ± std. dev. of 7 runs, 100000 loops each)\n",
      "3.21 µs ± 86.9 ns per loop (mean ± std. dev. of 7 runs, 100000 loops each)\n",
      "4.47 µs ± 143 ns per loop (mean ± std. dev. of 7 runs, 100000 loops each)\n",
      "13.3 µs ± 280 ns per loop (mean ± std. dev. of 7 runs, 100000 loops each)\n",
      "4.61 µs ± 164 ns per loop (mean ± std. dev. of 7 runs, 100000 loops each)\n"
     ]
    }
   ],
   "source": [
    "speedup = []\n",
    "for d in datasize:\n",
    "    df = pd.DataFrame(np.random.randn(d, 1))\n",
    "    r = random.randint(0, d-1)\n",
    "    r1 = df.at[r, 0]\n",
    "    r2 = df.iat[r, 0]\n",
    "    assert r1 == r2\n",
    "    t1 = %timeit -o df.at[r, 0]\n",
    "    t2 = %timeit -o df.iat[r, 0]\n",
    "    time1 = np.array(t1.timings).mean()\n",
    "    time2 = np.array(t2.timings).mean()\n",
    "    speedup.append(time2/time1)\n",
    "speedup_all['pd.DataFrame.at vs pd.DataFrame.iat'] = speedup"
   ]
  },
  {
   "cell_type": "markdown",
   "metadata": {},
   "source": [
    "np.einsum,np.einsum vs np.einsum"
   ]
  },
  {
   "cell_type": "code",
   "execution_count": 5,
   "metadata": {},
   "outputs": [
    {
     "name": "stdout",
     "output_type": "stream",
     "text": [
      "2.34 µs ± 91.3 ns per loop (mean ± std. dev. of 7 runs, 100000 loops each)\n",
      "2.28 µs ± 67.5 ns per loop (mean ± std. dev. of 7 runs, 100000 loops each)\n",
      "3.73 µs ± 100 ns per loop (mean ± std. dev. of 7 runs, 100000 loops each)\n",
      "42.4 µs ± 70.3 ns per loop (mean ± std. dev. of 7 runs, 10000 loops each)\n",
      "14 µs ± 607 ns per loop (mean ± std. dev. of 7 runs, 100000 loops each)\n",
      "4.93 ms ± 163 µs per loop (mean ± std. dev. of 7 runs, 100 loops each)\n",
      "118 µs ± 459 ns per loop (mean ± std. dev. of 7 runs, 10000 loops each)\n",
      "626 ms ± 21.7 ms per loop (mean ± std. dev. of 7 runs, 1 loop each)\n",
      "2.06 ms ± 122 µs per loop (mean ± std. dev. of 7 runs, 100 loops each)\n",
      "1min 19s ± 2.65 s per loop (mean ± std. dev. of 7 runs, 1 loop each)\n"
     ]
    }
   ],
   "source": [
    "speedup = []\n",
    "for d in datasize:\n",
    "    a, b= np.random.rand(int(d/5),5), np.random.rand(5,int(d/5))\n",
    "    r1 = np.einsum('j,jk->k', np.einsum('ij->j', a), b)\n",
    "    r2 = np.einsum('ij,jk->k',a,b)\n",
    "    assert np.allclose(r1,r2)\n",
    "    t1 = %timeit -o np.einsum('j,jk->k', np.einsum('ij->j', a), b)\n",
    "    t2 = %timeit -o np.einsum('ij,jk->k',a,b)\n",
    "    time1 = np.array(t1.timings).mean()\n",
    "    time2 = np.array(t2.timings).mean()\n",
    "    speedup.append(time2/time1)\n",
    "speedup_all['np.einsum,np.einsum vs np.einsum'] = speedup"
   ]
  },
  {
   "cell_type": "markdown",
   "metadata": {},
   "source": [
    "pd.Series.isin vs pd.DataFrame.query"
   ]
  },
  {
   "cell_type": "code",
   "execution_count": 7,
   "metadata": {},
   "outputs": [
    {
     "name": "stdout",
     "output_type": "stream",
     "text": [
      "431 µs ± 4.06 µs per loop (mean ± std. dev. of 7 runs, 1000 loops each)\n",
      "1.26 ms ± 31.6 µs per loop (mean ± std. dev. of 7 runs, 1000 loops each)\n",
      "433 µs ± 1.72 µs per loop (mean ± std. dev. of 7 runs, 1000 loops each)\n",
      "1.26 ms ± 14 µs per loop (mean ± std. dev. of 7 runs, 1000 loops each)\n",
      "602 µs ± 7.91 µs per loop (mean ± std. dev. of 7 runs, 1000 loops each)\n",
      "1.99 ms ± 59.7 µs per loop (mean ± std. dev. of 7 runs, 1000 loops each)\n",
      "2.08 ms ± 6.5 µs per loop (mean ± std. dev. of 7 runs, 100 loops each)\n",
      "4.05 ms ± 83.9 µs per loop (mean ± std. dev. of 7 runs, 100 loops each)\n",
      "25.7 ms ± 2.19 ms per loop (mean ± std. dev. of 7 runs, 10 loops each)\n",
      "33.6 ms ± 1.8 ms per loop (mean ± std. dev. of 7 runs, 10 loops each)\n"
     ]
    }
   ],
   "source": [
    "speedup = []\n",
    "item_ids = [1, 2, 3, 4]\n",
    "for d in datasize:\n",
    "    df = pd.DataFrame({'item_id':np.random.choice(item_ids+ [5], p=(.125,.125,.125,.125,.5),size=d)})\n",
    "    r1 = df[df['item_id'].isin(item_ids)]\n",
    "    r2 = df.query('item_id in {}'.format(item_ids))\n",
    "    assert r1.equals(r2)\n",
    "    t1 = %timeit -o df[df['item_id'].isin(item_ids)]\n",
    "    t2 = %timeit -o df.query('item_id in {}'.format(item_ids))\n",
    "    time1 = np.array(t1.timings).mean()\n",
    "    time2 = np.array(t2.timings).mean()\n",
    "    speedup.append(time2/time1)\n",
    "speedup_all['pd.Series.isin vs pd.DataFrame.query'] = speedup"
   ]
  },
  {
   "cell_type": "code",
   "execution_count": 9,
   "metadata": {
    "scrolled": true
   },
   "outputs": [
    {
     "data": {
      "text/plain": [
       "{'np.einsum,np.einsum vs np.einsum': [0.9776514595024661,\n",
       "  11.37164686452012,\n",
       "  352.0672437538201,\n",
       "  5302.173366774716,\n",
       "  38483.85922196496],\n",
       " 'pd.Series.isin vs pd.DataFrame.query': [2.9313006306337397,\n",
       "  2.8980851664467093,\n",
       "  3.2989869534804486,\n",
       "  1.9431657615698124,\n",
       "  1.3086919115791582]}"
      ]
     },
     "execution_count": 9,
     "metadata": {},
     "output_type": "execute_result"
    }
   ],
   "source": [
    "speedup_all"
   ]
  },
  {
   "cell_type": "code",
   "execution_count": 21,
   "metadata": {},
   "outputs": [],
   "source": [
    "import pickle\n",
    "with open('speedup-dell.pkl', 'rb') as f:\n",
    "    speedup_old = pickle.load(f)"
   ]
  },
  {
   "cell_type": "code",
   "execution_count": 24,
   "metadata": {},
   "outputs": [],
   "source": [
    "speedups = {**speedup_all,**speedup_old}"
   ]
  },
  {
   "cell_type": "code",
   "execution_count": 26,
   "metadata": {},
   "outputs": [
    {
     "data": {
      "text/plain": [
       "68"
      ]
     },
     "execution_count": 26,
     "metadata": {},
     "output_type": "execute_result"
    }
   ],
   "source": [
    "len(speedups)"
   ]
  },
  {
   "cell_type": "code",
   "execution_count": 28,
   "metadata": {},
   "outputs": [],
   "source": [
    "with open('updated/speedup-new.pkl', 'wb') as f:\n",
    "    pickle.dump(speedups, f)"
   ]
  }
 ],
 "metadata": {
  "kernelspec": {
   "display_name": "Python 3",
   "language": "python",
   "name": "python3"
  },
  "language_info": {
   "codemirror_mode": {
    "name": "ipython",
    "version": 3
   },
   "file_extension": ".py",
   "mimetype": "text/x-python",
   "name": "python",
   "nbconvert_exporter": "python",
   "pygments_lexer": "ipython3",
   "version": "3.6.8"
  }
 },
 "nbformat": 4,
 "nbformat_minor": 2
}
